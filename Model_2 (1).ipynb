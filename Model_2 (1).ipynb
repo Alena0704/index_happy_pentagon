{
  "nbformat": 4,
  "nbformat_minor": 0,
  "metadata": {
    "colab": {
      "name": "Model_2.ipynb",
      "provenance": [],
      "toc_visible": true
    },
    "kernelspec": {
      "display_name": "Python 3",
      "language": "python",
      "name": "python3"
    },
    "language_info": {
      "codemirror_mode": {
        "name": "ipython",
        "version": 3
      },
      "file_extension": ".py",
      "mimetype": "text/x-python",
      "name": "python",
      "nbconvert_exporter": "python",
      "pygments_lexer": "ipython3",
      "version": "3.7.7"
    },
    "toc": {
      "base_numbering": 1,
      "nav_menu": {},
      "number_sections": false,
      "sideBar": false,
      "skip_h1_title": false,
      "title_cell": "Table of Contents",
      "title_sidebar": "Contents",
      "toc_cell": false,
      "toc_position": {},
      "toc_section_display": false,
      "toc_window_display": false
    }
  },
  "cells": [
    {
      "cell_type": "code",
      "metadata": {
        "colab": {
          "base_uri": "https://localhost:8080/"
        },
        "id": "ztMb9i7O51tW",
        "outputId": "1c54dab7-62c2-4c20-e15b-d4cbaed44310"
      },
      "source": [
        "from google.colab import drive\n",
        " \n",
        " \n",
        "drive.mount('noises/')\n",
        "root_path = 'noises/My Drive/'  #change dir to your project folder"
      ],
      "execution_count": 1,
      "outputs": [
        {
          "output_type": "stream",
          "text": [
            "Mounted at noises/\n"
          ],
          "name": "stdout"
        }
      ]
    },
    {
      "cell_type": "code",
      "metadata": {
        "colab": {
          "base_uri": "https://localhost:8080/"
        },
        "id": "P_7RMhOH51l2",
        "outputId": "e6220f34-513f-417e-cde0-07839b19d7dd"
      },
      "source": [
        "%cd noises/MyDrive/"
      ],
      "execution_count": 2,
      "outputs": [
        {
          "output_type": "stream",
          "text": [
            "/content/noises/MyDrive\n"
          ],
          "name": "stdout"
        }
      ]
    },
    {
      "cell_type": "markdown",
      "metadata": {
        "id": "Gx78IGmU8vlR"
      },
      "source": [
        "## Анализ данных. Предобработка данных"
      ]
    },
    {
      "cell_type": "code",
      "metadata": {
        "colab": {
          "base_uri": "https://localhost:8080/"
        },
        "id": "dRaPQeVJ50ZO",
        "outputId": "1346898e-8a5f-492b-86be-52da366ae35c"
      },
      "source": [
        "!pip install --user xgboost\n"
      ],
      "execution_count": 3,
      "outputs": [
        {
          "output_type": "stream",
          "text": [
            "Requirement already satisfied: xgboost in /usr/local/lib/python3.7/dist-packages (0.90)\n",
            "Requirement already satisfied: scipy in /usr/local/lib/python3.7/dist-packages (from xgboost) (1.4.1)\n",
            "Requirement already satisfied: numpy in /usr/local/lib/python3.7/dist-packages (from xgboost) (1.19.5)\n"
          ],
          "name": "stdout"
        }
      ]
    },
    {
      "cell_type": "code",
      "metadata": {
        "id": "IatGBimq-lay"
      },
      "source": [
        "import pandas as pd\n",
        "import numpy as np\n",
        "import matplotlib.pyplot as plt\n",
        "import seaborn as sns\n",
        "\n",
        "from sklearn.preprocessing import StandardScaler\n",
        "from sklearn.model_selection import train_test_split,GridSearchCV\n",
        "from sklearn import metrics\n",
        "\n",
        "from sklearn.linear_model import LinearRegression\n",
        "\n",
        "from sklearn.tree import DecisionTreeRegressor\n",
        "\n",
        "from sklearn.svm import LinearSVR\n",
        "\n",
        "from sklearn.ensemble import VotingRegressor\n",
        "from sklearn.neighbors import KNeighborsRegressor\n",
        "from sklearn.linear_model import Ridge\n",
        "import xgboost as xgb"
      ],
      "execution_count": 3,
      "outputs": []
    },
    {
      "cell_type": "code",
      "metadata": {
        "colab": {
          "base_uri": "https://localhost:8080/",
          "height": 168
        },
        "id": "tyaIUYJo50ZQ",
        "outputId": "126dd0c3-44fb-44b1-c3f7-87e98ccc2a64"
      },
      "source": [
        "df"
      ],
      "execution_count": 4,
      "outputs": [
        {
          "output_type": "error",
          "ename": "NameError",
          "evalue": "ignored",
          "traceback": [
            "\u001b[0;31m---------------------------------------------------------------------------\u001b[0m",
            "\u001b[0;31mNameError\u001b[0m                                 Traceback (most recent call last)",
            "\u001b[0;32m<ipython-input-4-00cf07b74dcd>\u001b[0m in \u001b[0;36m<module>\u001b[0;34m()\u001b[0m\n\u001b[0;32m----> 1\u001b[0;31m \u001b[0mdf\u001b[0m\u001b[0;34m\u001b[0m\u001b[0;34m\u001b[0m\u001b[0m\n\u001b[0m",
            "\u001b[0;31mNameError\u001b[0m: name 'df' is not defined"
          ]
        }
      ]
    },
    {
      "cell_type": "code",
      "metadata": {
        "id": "akovKfJEDz80"
      },
      "source": [
        "df_2019 = pd.read_csv('all_datas.csv')"
      ],
      "execution_count": 5,
      "outputs": []
    },
    {
      "cell_type": "code",
      "metadata": {
        "id": "Sz96S0Q450ZR"
      },
      "source": [
        "df_2019 = df_2019.replace(' ', np.nan)"
      ],
      "execution_count": 6,
      "outputs": []
    },
    {
      "cell_type": "code",
      "metadata": {
        "colab": {
          "base_uri": "https://localhost:8080/"
        },
        "id": "efeiyw9t50ZR",
        "outputId": "3ddb6cec-3af8-4617-9bcc-ab4f53651bbe"
      },
      "source": [
        "df_2019.info"
      ],
      "execution_count": 7,
      "outputs": [
        {
          "output_type": "execute_result",
          "data": {
            "text/plain": [
              "<bound method DataFrame.info of                               Регион  ...  Социальная ориентированность бюджетов\n",
              "0                     Алтайский край  ...                                 41.952\n",
              "1                   Амурская область  ...                                 39.507\n",
              "2              Архангельская область  ...                                 42.384\n",
              "3               Астраханская область  ...                                 35.910\n",
              "4               Белгородская область  ...                                 54.358\n",
              "..                               ...  ...                                    ...\n",
              "505       Чукотский автономный округ  ...                                 61.830\n",
              "506  Ямало-Ненецкий автономный округ  ...                                 40.010\n",
              "507              Ярославская область  ...                                 17.500\n",
              "508                      Севастополь  ...                                 46.500\n",
              "509                  Республика Крым  ...                                 42.300\n",
              "\n",
              "[510 rows x 16 columns]>"
            ]
          },
          "metadata": {
            "tags": []
          },
          "execution_count": 7
        }
      ]
    },
    {
      "cell_type": "code",
      "metadata": {
        "colab": {
          "base_uri": "https://localhost:8080/",
          "height": 1000
        },
        "id": "ZPzy97tv50ZS",
        "outputId": "811ce6f1-fe86-4059-f87c-17eeae6bc157"
      },
      "source": [
        "plt.figure(figsize=(10, 8))\n",
        "sns.heatmap(df_2019.isnull(), cbar=False).set_title('Карта пропущенных значений')\n",
        "plt.show()\n",
        "\n",
        "print(\"\\nКоличество пропусков в каждом столбце:\")\n",
        "df_2019.isnull().sum()"
      ],
      "execution_count": 8,
      "outputs": [
        {
          "output_type": "display_data",
          "data": {
            "image/png": "[encoded data removed]",
            "text/plain": [
              "<Figure size 720x576 with 1 Axes>"
            ]
          },
          "metadata": {
            "tags": [],
            "needs_background": "light"
          }
        },
        {
          "output_type": "stream",
          "text": [
            "\n",
            "Количество пропусков в каждом столбце:\n"
          ],
          "name": "stdout"
        },
        {
          "output_type": "execute_result",
          "data": {
            "text/plain": [
              "Регион                                   0\n",
              "Население                                0\n",
              "Медианная зп (руб)                       0\n",
              "92                                       0\n",
              "95                                       0\n",
              "дт                                       2\n",
              "ДТП на 100000 чел                        0\n",
              "ДТП с погибшими (на 100000 чел)          0\n",
              "ДТП с ранеными на 100000 чел             4\n",
              "Уровень безработицы. %                   0\n",
              "Преступность(кол-во на 10000 чел)        0\n",
              "Продолжительность жизни                  0\n",
              "Прожиточный минимум                      0\n",
              "Качество жизни                           0\n",
              "Индекс привлекательности рабочей силы    0\n",
              "Социальная ориентированность бюджетов    0\n",
              "dtype: int64"
            ]
          },
          "metadata": {
            "tags": []
          },
          "execution_count": 8
        }
      ]
    },
    {
      "cell_type": "code",
      "metadata": {
        "id": "IbpYMHfx50ZT"
      },
      "source": [
        "df = df_2019.copy(deep = True).drop(['дт', 'ДТП с ранеными на 100000 чел'], axis=1)"
      ],
      "execution_count": 9,
      "outputs": []
    },
    {
      "cell_type": "markdown",
      "metadata": {
        "id": "SzFsvLQdKy1f"
      },
      "source": [
        "Корелляционная матрица"
      ]
    },
    {
      "cell_type": "code",
      "metadata": {
        "id": "Rgj-uUVJ50ZT"
      },
      "source": [
        "'''visualizes the correlation matrix of features in the dataset'''\n",
        "def corrmat(data):\n",
        "    plt.figure(figsize=(10,10))\n",
        "    sns.heatmap(data.corr(), cbar=True, annot=True, square=True, fmt='.2f', annot_kws={'size': 10}).set_title(\"Correlation Matrix\")\n",
        "    plt.show()"
      ],
      "execution_count": 10,
      "outputs": []
    },
    {
      "cell_type": "code",
      "metadata": {
        "colab": {
          "base_uri": "https://localhost:8080/",
          "height": 765
        },
        "id": "SkMP84wHWzP9",
        "outputId": "1531ee66-4411-4f38-9183-1f1b6fd900f7"
      },
      "source": [
        "corrmat(df)"
      ],
      "execution_count": 11,
      "outputs": [
        {
          "output_type": "display_data",
          "data": {
            "image/png": "[encoded data removed]",
            "text/plain": [
              "<Figure size 720x720 with 2 Axes>"
            ]
          },
          "metadata": {
            "tags": [],
            "needs_background": "light"
          }
        }
      ]
    },
    {
      "cell_type": "code",
      "metadata": {
        "id": "qyBas1iM50ZU"
      },
      "source": [
        "df['Преступность(кол-во на 10000 чел)'] /= 10"
      ],
      "execution_count": 12,
      "outputs": []
    },
    {
      "cell_type": "code",
      "metadata": {
        "colab": {
          "base_uri": "https://localhost:8080/"
        },
        "id": "UTLfnsbuBy2z",
        "outputId": "49876703-39da-4799-981e-b537d51b83b9"
      },
      "source": [
        "df.mean(), df.std(), df.max()"
      ],
      "execution_count": 13,
      "outputs": [
        {
          "output_type": "execute_result",
          "data": {
            "text/plain": [
              "(Население                                1.751974e+06\n",
              " Медианная зп (руб)                       2.449115e+04\n",
              " 92                                       3.957069e+01\n",
              " 95                                       4.245631e+01\n",
              " ДТП на 100000 чел                        1.413939e+02\n",
              " ДТП с погибшими (на 100000 чел)          3.131157e+01\n",
              " Уровень безработицы. %                   6.216863e+00\n",
              " Преступность(кол-во на 10000 чел)        1.619982e+01\n",
              " Продолжительность жизни                  7.190455e+01\n",
              " Прожиточный минимум                      1.082653e+04\n",
              " Качество жизни                           4.334107e+01\n",
              " Индекс привлекательности рабочей силы    4.359249e+01\n",
              " Социальная ориентированность бюджетов    4.335083e+01\n",
              " dtype: float64, Население                                1.792657e+06\n",
              " Медианная зп (руб)                       1.025643e+04\n",
              " 92                                       4.864222e+00\n",
              " 95                                       4.882184e+00\n",
              " ДТП на 100000 чел                        5.339080e+01\n",
              " ДТП с погибшими (на 100000 чел)          3.879951e+01\n",
              " Уровень безработицы. %                   3.560301e+00\n",
              " Преступность(кол-во на 10000 чел)        1.659889e+01\n",
              " Продолжительность жизни                  2.495552e+00\n",
              " Прожиточный минимум                      2.695084e+03\n",
              " Качество жизни                           2.790116e+01\n",
              " Индекс привлекательности рабочей силы    1.201404e+01\n",
              " Социальная ориентированность бюджетов    1.518120e+01\n",
              " dtype: float64, Регион                                   Ярославская область\n",
              " Население                                           12646679\n",
              " Медианная зп (руб)                                     78200\n",
              " 92                                                        60\n",
              " 95                                                        63\n",
              " ДТП на 100000 чел                                        632\n",
              " ДТП с погибшими (на 100000 чел)                          202\n",
              " Уровень безработицы. %                                  30.5\n",
              " Преступность(кол-во на 10000 чел)                    326.329\n",
              " Продолжительность жизни                                83.41\n",
              " Прожиточный минимум                                    22213\n",
              " Качество жизни                                       522.388\n",
              " Индекс привлекательности рабочей силы                 82.114\n",
              " Социальная ориентированность бюджетов                 106.29\n",
              " dtype: object)"
            ]
          },
          "metadata": {
            "tags": []
          },
          "execution_count": 13
        }
      ]
    },
    {
      "cell_type": "markdown",
      "metadata": {
        "id": "Xb86jOdULEvj"
      },
      "source": [
        "Ищем и удаляем выбросы"
      ]
    },
    {
      "cell_type": "code",
      "metadata": {
        "colab": {
          "base_uri": "https://localhost:8080/",
          "height": 135
        },
        "id": "rS72BuWGjlBn",
        "outputId": "1901c9ee-7c87-4ca8-aed4-acbc294a9e4f"
      },
      "source": [
        "df[df['Преступность(кол-во на 10000 чел)']>1000]"
      ],
      "execution_count": 14,
      "outputs": [
        {
          "output_type": "execute_result",
          "data": {
            "text/html": [
              "<div>\n",
              "<style scoped>\n",
              "    .dataframe tbody tr th:only-of-type {\n",
              "        vertical-align: middle;\n",
              "    }\n",
              "\n",
              "    .dataframe tbody tr th {\n",
              "        vertical-align: top;\n",
              "    }\n",
              "\n",
              "    .dataframe thead th {\n",
              "        text-align: right;\n",
              "    }\n",
              "</style>\n",
              "<table border=\"1\" class=\"dataframe\">\n",
              "  <thead>\n",
              "    <tr style=\"text-align: right;\">\n",
              "      <th></th>\n",
              "      <th>Регион</th>\n",
              "      <th>Население</th>\n",
              "      <th>Медианная зп (руб)</th>\n",
              "      <th>92</th>\n",
              "      <th>95</th>\n",
              "      <th>ДТП на 100000 чел</th>\n",
              "      <th>ДТП с погибшими (на 100000 чел)</th>\n",
              "      <th>Уровень безработицы. %</th>\n",
              "      <th>Преступность(кол-во на 10000 чел)</th>\n",
              "      <th>Продолжительность жизни</th>\n",
              "      <th>Прожиточный минимум</th>\n",
              "      <th>Качество жизни</th>\n",
              "      <th>Индекс привлекательности рабочей силы</th>\n",
              "      <th>Социальная ориентированность бюджетов</th>\n",
              "    </tr>\n",
              "  </thead>\n",
              "  <tbody>\n",
              "  </tbody>\n",
              "</table>\n",
              "</div>"
            ],
            "text/plain": [
              "Empty DataFrame\n",
              "Columns: [Регион, Население, Медианная зп (руб), 92, 95, ДТП на 100000 чел, ДТП с погибшими (на 100000 чел), Уровень безработицы. %, Преступность(кол-во на 10000 чел), Продолжительность жизни, Прожиточный минимум, Качество жизни, Индекс привлекательности рабочей силы, Социальная ориентированность бюджетов]\n",
              "Index: []"
            ]
          },
          "metadata": {
            "tags": []
          },
          "execution_count": 14
        }
      ]
    },
    {
      "cell_type": "code",
      "metadata": {
        "colab": {
          "base_uri": "https://localhost:8080/",
          "height": 261
        },
        "id": "vVZC_7WVjyDZ",
        "outputId": "8d45b0cc-29d5-4892-fc18-a8b9a1c6a844"
      },
      "source": [
        "df[df['Качество жизни']>100]"
      ],
      "execution_count": 15,
      "outputs": [
        {
          "output_type": "execute_result",
          "data": {
            "text/html": [
              "<div>\n",
              "<style scoped>\n",
              "    .dataframe tbody tr th:only-of-type {\n",
              "        vertical-align: middle;\n",
              "    }\n",
              "\n",
              "    .dataframe tbody tr th {\n",
              "        vertical-align: top;\n",
              "    }\n",
              "\n",
              "    .dataframe thead th {\n",
              "        text-align: right;\n",
              "    }\n",
              "</style>\n",
              "<table border=\"1\" class=\"dataframe\">\n",
              "  <thead>\n",
              "    <tr style=\"text-align: right;\">\n",
              "      <th></th>\n",
              "      <th>Регион</th>\n",
              "      <th>Население</th>\n",
              "      <th>Медианная зп (руб)</th>\n",
              "      <th>92</th>\n",
              "      <th>95</th>\n",
              "      <th>ДТП на 100000 чел</th>\n",
              "      <th>ДТП с погибшими (на 100000 чел)</th>\n",
              "      <th>Уровень безработицы. %</th>\n",
              "      <th>Преступность(кол-во на 10000 чел)</th>\n",
              "      <th>Продолжительность жизни</th>\n",
              "      <th>Прожиточный минимум</th>\n",
              "      <th>Качество жизни</th>\n",
              "      <th>Индекс привлекательности рабочей силы</th>\n",
              "      <th>Социальная ориентированность бюджетов</th>\n",
              "    </tr>\n",
              "  </thead>\n",
              "  <tbody>\n",
              "    <tr>\n",
              "      <th>504</th>\n",
              "      <td>Чувашская Республика</td>\n",
              "      <td>3444025</td>\n",
              "      <td>21300.0</td>\n",
              "      <td>40.36</td>\n",
              "      <td>44.13</td>\n",
              "      <td>208.0</td>\n",
              "      <td>110.0</td>\n",
              "      <td>4.9</td>\n",
              "      <td>3.788590</td>\n",
              "      <td>72.08</td>\n",
              "      <td>10276.0</td>\n",
              "      <td>311.141476</td>\n",
              "      <td>45.96</td>\n",
              "      <td>49.70</td>\n",
              "    </tr>\n",
              "    <tr>\n",
              "      <th>506</th>\n",
              "      <td>Ямало-Ненецкий автономный округ</td>\n",
              "      <td>1208806</td>\n",
              "      <td>78200.0</td>\n",
              "      <td>42.95</td>\n",
              "      <td>46.22</td>\n",
              "      <td>250.0</td>\n",
              "      <td>98.0</td>\n",
              "      <td>4.5</td>\n",
              "      <td>6.312014</td>\n",
              "      <td>73.44</td>\n",
              "      <td>9285.0</td>\n",
              "      <td>522.388073</td>\n",
              "      <td>53.30</td>\n",
              "      <td>40.01</td>\n",
              "    </tr>\n",
              "  </tbody>\n",
              "</table>\n",
              "</div>"
            ],
            "text/plain": [
              "                              Регион  ...  Социальная ориентированность бюджетов\n",
              "504             Чувашская Республика  ...                                  49.70\n",
              "506  Ямало-Ненецкий автономный округ  ...                                  40.01\n",
              "\n",
              "[2 rows x 14 columns]"
            ]
          },
          "metadata": {
            "tags": []
          },
          "execution_count": 15
        }
      ]
    },
    {
      "cell_type": "code",
      "metadata": {
        "id": "hEu6MvqIkE_t"
      },
      "source": [
        "df = df.drop([504,506,484,490,507])"
      ],
      "execution_count": 16,
      "outputs": []
    },
    {
      "cell_type": "code",
      "metadata": {
        "colab": {
          "base_uri": "https://localhost:8080/",
          "height": 656
        },
        "id": "gOZWAc7utgTm",
        "outputId": "50b20344-0273-4f69-8a99-1a59e7408d81"
      },
      "source": [
        "df"
      ],
      "execution_count": 17,
      "outputs": [
        {
          "output_type": "execute_result",
          "data": {
            "text/html": [
              "<div>\n",
              "<style scoped>\n",
              "    .dataframe tbody tr th:only-of-type {\n",
              "        vertical-align: middle;\n",
              "    }\n",
              "\n",
              "    .dataframe tbody tr th {\n",
              "        vertical-align: top;\n",
              "    }\n",
              "\n",
              "    .dataframe thead th {\n",
              "        text-align: right;\n",
              "    }\n",
              "</style>\n",
              "<table border=\"1\" class=\"dataframe\">\n",
              "  <thead>\n",
              "    <tr style=\"text-align: right;\">\n",
              "      <th></th>\n",
              "      <th>Регион</th>\n",
              "      <th>Население</th>\n",
              "      <th>Медианная зп (руб)</th>\n",
              "      <th>92</th>\n",
              "      <th>95</th>\n",
              "      <th>ДТП на 100000 чел</th>\n",
              "      <th>ДТП с погибшими (на 100000 чел)</th>\n",
              "      <th>Уровень безработицы. %</th>\n",
              "      <th>Преступность(кол-во на 10000 чел)</th>\n",
              "      <th>Продолжительность жизни</th>\n",
              "      <th>Прожиточный минимум</th>\n",
              "      <th>Качество жизни</th>\n",
              "      <th>Индекс привлекательности рабочей силы</th>\n",
              "      <th>Социальная ориентированность бюджетов</th>\n",
              "    </tr>\n",
              "  </thead>\n",
              "  <tbody>\n",
              "    <tr>\n",
              "      <th>0</th>\n",
              "      <td>Алтайский край</td>\n",
              "      <td>2380793</td>\n",
              "      <td>16484.3</td>\n",
              "      <td>32.04</td>\n",
              "      <td>34.84</td>\n",
              "      <td>146.7</td>\n",
              "      <td>13.1</td>\n",
              "      <td>8.0</td>\n",
              "      <td>20.371000</td>\n",
              "      <td>70.44</td>\n",
              "      <td>8798.0</td>\n",
              "      <td>39.000000</td>\n",
              "      <td>44.69</td>\n",
              "      <td>41.952</td>\n",
              "    </tr>\n",
              "    <tr>\n",
              "      <th>1</th>\n",
              "      <td>Амурская область</td>\n",
              "      <td>807781</td>\n",
              "      <td>22087.9</td>\n",
              "      <td>37.33</td>\n",
              "      <td>39.44</td>\n",
              "      <td>173.1</td>\n",
              "      <td>18.8</td>\n",
              "      <td>5.8</td>\n",
              "      <td>24.047000</td>\n",
              "      <td>67.27</td>\n",
              "      <td>10740.0</td>\n",
              "      <td>38.510000</td>\n",
              "      <td>32.01</td>\n",
              "      <td>39.507</td>\n",
              "    </tr>\n",
              "    <tr>\n",
              "      <th>2</th>\n",
              "      <td>Архангельская область</td>\n",
              "      <td>1178701</td>\n",
              "      <td>24266.7</td>\n",
              "      <td>34.21</td>\n",
              "      <td>37.59</td>\n",
              "      <td>147.5</td>\n",
              "      <td>12.0</td>\n",
              "      <td>6.8</td>\n",
              "      <td>19.572000</td>\n",
              "      <td>70.70</td>\n",
              "      <td>12963.0</td>\n",
              "      <td>32.950000</td>\n",
              "      <td>37.22</td>\n",
              "      <td>42.384</td>\n",
              "    </tr>\n",
              "    <tr>\n",
              "      <th>3</th>\n",
              "      <td>Астраханская область</td>\n",
              "      <td>1019956</td>\n",
              "      <td>18337.5</td>\n",
              "      <td>34.30</td>\n",
              "      <td>37.25</td>\n",
              "      <td>152.1</td>\n",
              "      <td>13.4</td>\n",
              "      <td>7.5</td>\n",
              "      <td>14.466000</td>\n",
              "      <td>71.36</td>\n",
              "      <td>8452.0</td>\n",
              "      <td>43.310000</td>\n",
              "      <td>52.64</td>\n",
              "      <td>35.910</td>\n",
              "    </tr>\n",
              "    <tr>\n",
              "      <th>4</th>\n",
              "      <td>Белгородская область</td>\n",
              "      <td>1549037</td>\n",
              "      <td>21710.1</td>\n",
              "      <td>33.75</td>\n",
              "      <td>36.71</td>\n",
              "      <td>80.2</td>\n",
              "      <td>13.4</td>\n",
              "      <td>4.1</td>\n",
              "      <td>10.202000</td>\n",
              "      <td>72.61</td>\n",
              "      <td>8134.0</td>\n",
              "      <td>35.460000</td>\n",
              "      <td>50.72</td>\n",
              "      <td>54.358</td>\n",
              "    </tr>\n",
              "    <tr>\n",
              "      <th>...</th>\n",
              "      <td>...</td>\n",
              "      <td>...</td>\n",
              "      <td>...</td>\n",
              "      <td>...</td>\n",
              "      <td>...</td>\n",
              "      <td>...</td>\n",
              "      <td>...</td>\n",
              "      <td>...</td>\n",
              "      <td>...</td>\n",
              "      <td>...</td>\n",
              "      <td>...</td>\n",
              "      <td>...</td>\n",
              "      <td>...</td>\n",
              "      <td>...</td>\n",
              "    </tr>\n",
              "    <tr>\n",
              "      <th>502</th>\n",
              "      <td>Челябинская область</td>\n",
              "      <td>1302918</td>\n",
              "      <td>58000.0</td>\n",
              "      <td>45.41</td>\n",
              "      <td>47.46</td>\n",
              "      <td>255.0</td>\n",
              "      <td>128.0</td>\n",
              "      <td>3.5</td>\n",
              "      <td>48.633910</td>\n",
              "      <td>70.05</td>\n",
              "      <td>14417.0</td>\n",
              "      <td>20.124150</td>\n",
              "      <td>52.19</td>\n",
              "      <td>45.210</td>\n",
              "    </tr>\n",
              "    <tr>\n",
              "      <th>503</th>\n",
              "      <td>Чеченская Республика</td>\n",
              "      <td>1688378</td>\n",
              "      <td>28400.0</td>\n",
              "      <td>44.18</td>\n",
              "      <td>46.98</td>\n",
              "      <td>122.0</td>\n",
              "      <td>86.0</td>\n",
              "      <td>2.3</td>\n",
              "      <td>1.859181</td>\n",
              "      <td>75.04</td>\n",
              "      <td>15376.0</td>\n",
              "      <td>8.849962</td>\n",
              "      <td>36.60</td>\n",
              "      <td>80.050</td>\n",
              "    </tr>\n",
              "    <tr>\n",
              "      <th>505</th>\n",
              "      <td>Чукотский автономный округ</td>\n",
              "      <td>1500490</td>\n",
              "      <td>22100.0</td>\n",
              "      <td>42.83</td>\n",
              "      <td>45.48</td>\n",
              "      <td>44.0</td>\n",
              "      <td>18.0</td>\n",
              "      <td>13.5</td>\n",
              "      <td>0.523829</td>\n",
              "      <td>75.88</td>\n",
              "      <td>10998.0</td>\n",
              "      <td>36.892457</td>\n",
              "      <td>27.72</td>\n",
              "      <td>61.830</td>\n",
              "    </tr>\n",
              "    <tr>\n",
              "      <th>508</th>\n",
              "      <td>Севастополь</td>\n",
              "      <td>513149</td>\n",
              "      <td>12600.0</td>\n",
              "      <td>45.53</td>\n",
              "      <td>50.74</td>\n",
              "      <td>281.0</td>\n",
              "      <td>122.0</td>\n",
              "      <td>3.6</td>\n",
              "      <td>11.895000</td>\n",
              "      <td>73.53</td>\n",
              "      <td>11538.0</td>\n",
              "      <td>54.250000</td>\n",
              "      <td>51.20</td>\n",
              "      <td>46.500</td>\n",
              "    </tr>\n",
              "    <tr>\n",
              "      <th>509</th>\n",
              "      <td>Республика Крым</td>\n",
              "      <td>1903707</td>\n",
              "      <td>15600.0</td>\n",
              "      <td>45.58</td>\n",
              "      <td>50.73</td>\n",
              "      <td>264.0</td>\n",
              "      <td>107.0</td>\n",
              "      <td>7.7</td>\n",
              "      <td>11.389000</td>\n",
              "      <td>72.71</td>\n",
              "      <td>10509.0</td>\n",
              "      <td>46.084000</td>\n",
              "      <td>56.50</td>\n",
              "      <td>42.300</td>\n",
              "    </tr>\n",
              "  </tbody>\n",
              "</table>\n",
              "<p>505 rows × 14 columns</p>\n",
              "</div>"
            ],
            "text/plain": [
              "                         Регион  ...  Социальная ориентированность бюджетов\n",
              "0                Алтайский край  ...                                 41.952\n",
              "1              Амурская область  ...                                 39.507\n",
              "2         Архангельская область  ...                                 42.384\n",
              "3          Астраханская область  ...                                 35.910\n",
              "4          Белгородская область  ...                                 54.358\n",
              "..                          ...  ...                                    ...\n",
              "502         Челябинская область  ...                                 45.210\n",
              "503        Чеченская Республика  ...                                 80.050\n",
              "505  Чукотский автономный округ  ...                                 61.830\n",
              "508                 Севастополь  ...                                 46.500\n",
              "509             Республика Крым  ...                                 42.300\n",
              "\n",
              "[505 rows x 14 columns]"
            ]
          },
          "metadata": {
            "tags": []
          },
          "execution_count": 17
        }
      ]
    },
    {
      "cell_type": "markdown",
      "metadata": {
        "id": "5XKZFcIek4nh"
      },
      "source": [
        "Нормирование по среднему"
      ]
    },
    {
      "cell_type": "code",
      "metadata": {
        "colab": {
          "base_uri": "https://localhost:8080/"
        },
        "id": "BZKzN220lFnp",
        "outputId": "068da618-9619-4384-c148-a776c056add1"
      },
      "source": [
        "df.mean(), df.max()"
      ],
      "execution_count": 110,
      "outputs": [
        {
          "output_type": "execute_result",
          "data": {
            "text/plain": [
              "(Население                                1.751974e+06\n",
              " Медианная зп (руб)                       2.449115e+04\n",
              " 92                                       3.957069e+01\n",
              " 95                                       4.245631e+01\n",
              " ДТП на 100000 чел                        1.413939e+02\n",
              " ДТП с погибшими (на 100000 чел)          3.131157e+01\n",
              " Уровень безработицы. %                   6.216863e+00\n",
              " Преступность(кол-во на 10000 чел)        1.619982e+01\n",
              " Продолжительность жизни                  7.190455e+01\n",
              " Прожиточный минимум                      1.082653e+04\n",
              " Качество жизни                           4.334107e+01\n",
              " Индекс привлекательности рабочей силы    4.359249e+01\n",
              " Социальная ориентированность бюджетов    4.335083e+01\n",
              " dtype: float64, Регион                                   Ярославская область\n",
              " Население                                           12646679\n",
              " Медианная зп (руб)                                     78200\n",
              " 92                                                        60\n",
              " 95                                                        63\n",
              " ДТП на 100000 чел                                        632\n",
              " ДТП с погибшими (на 100000 чел)                          202\n",
              " Уровень безработицы. %                                  30.5\n",
              " Преступность(кол-во на 10000 чел)                    326.329\n",
              " Продолжительность жизни                                83.41\n",
              " Прожиточный минимум                                    22213\n",
              " Качество жизни                                       522.388\n",
              " Индекс привлекательности рабочей силы                 82.114\n",
              " Социальная ориентированность бюджетов                 106.29\n",
              " dtype: object)"
            ]
          },
          "metadata": {
            "tags": []
          },
          "execution_count": 110
        }
      ]
    },
    {
      "cell_type": "code",
      "metadata": {
        "colab": {
          "base_uri": "https://localhost:8080/"
        },
        "id": "eu0nhuyTk3yo",
        "outputId": "86c9fc42-881e-48f2-b4e9-002edc68d21e"
      },
      "source": [
        "print( (df['Население']-np.min(df['Население']))/(np.max(df['Население'])-np.min(df['Население'])))"
      ],
      "execution_count": 111,
      "outputs": [
        {
          "output_type": "stream",
          "text": [
            "0      0.185446\n",
            "1      0.060634\n",
            "2      0.090065\n",
            "3      0.077469\n",
            "4      0.119450\n",
            "         ...   \n",
            "505    0.115598\n",
            "506    0.092454\n",
            "507    0.000452\n",
            "508    0.037256\n",
            "509    0.147591\n",
            "Name: Население, Length: 510, dtype: float64\n"
          ],
          "name": "stdout"
        }
      ]
    },
    {
      "cell_type": "markdown",
      "metadata": {
        "id": "GJphEC1jaqHC"
      },
      "source": [
        "Метрики качества:"
      ]
    },
    {
      "cell_type": "code",
      "metadata": {
        "id": "T5wQ6653Ykt7"
      },
      "source": [
        "def mean_absolute_percentage_error(y_true, y_pred): \n",
        "    y_true, y_pred = np.array(y_true), np.array(y_pred)\n",
        "    return np.mean(np.abs((y_true - y_pred) / y_true))"
      ],
      "execution_count": 18,
      "outputs": []
    },
    {
      "cell_type": "code",
      "metadata": {
        "id": "j_sl-vja50ZV"
      },
      "source": [
        "from sklearn.metrics import r2_score\n",
        "def get_metrics(model_name, y_test,y_pred,type_metric):\n",
        "    return ({\n",
        "        'model_name': model_name,\n",
        "        'MAE': metrics.mean_absolute_error(y_test, y_pred),\n",
        "        \"RMSE\": metrics.mean_squared_error(y_test, y_pred),\n",
        "        \"R2\":r2_score(y_test, y_pred)\n",
        "    })"
      ],
      "execution_count": 19,
      "outputs": []
    },
    {
      "cell_type": "code",
      "metadata": {
        "id": "Jx5LrL_e50ZV"
      },
      "source": [
        "def get_determenate(model_name, y_test,y_pred):\n",
        "    y_true, y_pred = np.array(y_test), np.array(y_pred)\n",
        "    return 1 - (np.square(y_pred-y_true)/(y_true-np.mean(y_true)))"
      ],
      "execution_count": 20,
      "outputs": []
    },
    {
      "cell_type": "markdown",
      "metadata": {
        "id": "ja7BE9YtHFAn"
      },
      "source": [
        "Обработка выбрасов\n"
      ]
    },
    {
      "cell_type": "code",
      "metadata": {
        "colab": {
          "base_uri": "https://localhost:8080/",
          "height": 568
        },
        "id": "ktn0b5HiHq-L",
        "outputId": "4482ed29-34f3-4907-8cb8-432abfe1661c"
      },
      "source": [
        "df[df['Качество жизни']<15]"
      ],
      "execution_count": 21,
      "outputs": [
        {
          "output_type": "execute_result",
          "data": {
            "text/html": [
              "<div>\n",
              "<style scoped>\n",
              "    .dataframe tbody tr th:only-of-type {\n",
              "        vertical-align: middle;\n",
              "    }\n",
              "\n",
              "    .dataframe tbody tr th {\n",
              "        vertical-align: top;\n",
              "    }\n",
              "\n",
              "    .dataframe thead th {\n",
              "        text-align: right;\n",
              "    }\n",
              "</style>\n",
              "<table border=\"1\" class=\"dataframe\">\n",
              "  <thead>\n",
              "    <tr style=\"text-align: right;\">\n",
              "      <th></th>\n",
              "      <th>Регион</th>\n",
              "      <th>Население</th>\n",
              "      <th>Медианная зп (руб)</th>\n",
              "      <th>92</th>\n",
              "      <th>95</th>\n",
              "      <th>ДТП на 100000 чел</th>\n",
              "      <th>ДТП с погибшими (на 100000 чел)</th>\n",
              "      <th>Уровень безработицы. %</th>\n",
              "      <th>Преступность(кол-во на 10000 чел)</th>\n",
              "      <th>Продолжительность жизни</th>\n",
              "      <th>Прожиточный минимум</th>\n",
              "      <th>Качество жизни</th>\n",
              "      <th>Индекс привлекательности рабочей силы</th>\n",
              "      <th>Социальная ориентированность бюджетов</th>\n",
              "    </tr>\n",
              "  </thead>\n",
              "  <tbody>\n",
              "    <tr>\n",
              "      <th>57</th>\n",
              "      <td>Республика Тыва</td>\n",
              "      <td>314706</td>\n",
              "      <td>12330.4</td>\n",
              "      <td>35.50</td>\n",
              "      <td>38.05</td>\n",
              "      <td>165.3</td>\n",
              "      <td>38.1</td>\n",
              "      <td>18.6</td>\n",
              "      <td>26.895000</td>\n",
              "      <td>63.13</td>\n",
              "      <td>9804.00</td>\n",
              "      <td>12.630000</td>\n",
              "      <td>27.630</td>\n",
              "      <td>12.295</td>\n",
              "    </tr>\n",
              "    <tr>\n",
              "      <th>143</th>\n",
              "      <td>Республика Хакасия</td>\n",
              "      <td>537225</td>\n",
              "      <td>16008.4</td>\n",
              "      <td>31.65</td>\n",
              "      <td>34.65</td>\n",
              "      <td>139.2</td>\n",
              "      <td>16.9</td>\n",
              "      <td>6.3</td>\n",
              "      <td>20.589000</td>\n",
              "      <td>69.33</td>\n",
              "      <td>9158.00</td>\n",
              "      <td>12.530000</td>\n",
              "      <td>27.753</td>\n",
              "      <td>27.610</td>\n",
              "    </tr>\n",
              "    <tr>\n",
              "      <th>228</th>\n",
              "      <td>Республика Хакасия</td>\n",
              "      <td>537591</td>\n",
              "      <td>16437.5</td>\n",
              "      <td>36.75</td>\n",
              "      <td>38.51</td>\n",
              "      <td>116.3</td>\n",
              "      <td>18.0</td>\n",
              "      <td>4.9</td>\n",
              "      <td>21.441000</td>\n",
              "      <td>70.21</td>\n",
              "      <td>9289.00</td>\n",
              "      <td>13.960000</td>\n",
              "      <td>60.990</td>\n",
              "      <td>27.610</td>\n",
              "    </tr>\n",
              "    <tr>\n",
              "      <th>426</th>\n",
              "      <td>Амурская область</td>\n",
              "      <td>781850</td>\n",
              "      <td>37500.0</td>\n",
              "      <td>45.28</td>\n",
              "      <td>47.95</td>\n",
              "      <td>295.0</td>\n",
              "      <td>145.0</td>\n",
              "      <td>5.2</td>\n",
              "      <td>23.562060</td>\n",
              "      <td>68.66</td>\n",
              "      <td>12235.00</td>\n",
              "      <td>11.901029</td>\n",
              "      <td>39.960</td>\n",
              "      <td>44.350</td>\n",
              "    </tr>\n",
              "    <tr>\n",
              "      <th>435</th>\n",
              "      <td>Еврейская автономная область</td>\n",
              "      <td>156492</td>\n",
              "      <td>32700.0</td>\n",
              "      <td>45.91</td>\n",
              "      <td>47.98</td>\n",
              "      <td>298.0</td>\n",
              "      <td>130.0</td>\n",
              "      <td>6.3</td>\n",
              "      <td>23.598650</td>\n",
              "      <td>68.08</td>\n",
              "      <td>15344.38</td>\n",
              "      <td>11.966965</td>\n",
              "      <td>27.170</td>\n",
              "      <td>46.500</td>\n",
              "    </tr>\n",
              "    <tr>\n",
              "      <th>483</th>\n",
              "      <td>Республика Хакасия</td>\n",
              "      <td>330327</td>\n",
              "      <td>27600.0</td>\n",
              "      <td>41.94</td>\n",
              "      <td>44.78</td>\n",
              "      <td>632.0</td>\n",
              "      <td>202.0</td>\n",
              "      <td>11.8</td>\n",
              "      <td>32.812940</td>\n",
              "      <td>67.57</td>\n",
              "      <td>10778.00</td>\n",
              "      <td>11.256287</td>\n",
              "      <td>13.960</td>\n",
              "      <td>41.890</td>\n",
              "    </tr>\n",
              "    <tr>\n",
              "      <th>492</th>\n",
              "      <td>Ставропольский край</td>\n",
              "      <td>513149</td>\n",
              "      <td>24100.0</td>\n",
              "      <td>45.53</td>\n",
              "      <td>50.74</td>\n",
              "      <td>281.0</td>\n",
              "      <td>122.0</td>\n",
              "      <td>3.6</td>\n",
              "      <td>67.707430</td>\n",
              "      <td>73.53</td>\n",
              "      <td>11538.00</td>\n",
              "      <td>11.603930</td>\n",
              "      <td>46.280</td>\n",
              "      <td>55.050</td>\n",
              "    </tr>\n",
              "    <tr>\n",
              "      <th>493</th>\n",
              "      <td>Тамбовская область</td>\n",
              "      <td>921620</td>\n",
              "      <td>23400.0</td>\n",
              "      <td>43.62</td>\n",
              "      <td>46.91</td>\n",
              "      <td>240.0</td>\n",
              "      <td>99.0</td>\n",
              "      <td>4.9</td>\n",
              "      <td>14.380110</td>\n",
              "      <td>71.89</td>\n",
              "      <td>10810.00</td>\n",
              "      <td>7.668664</td>\n",
              "      <td>51.520</td>\n",
              "      <td>39.010</td>\n",
              "    </tr>\n",
              "    <tr>\n",
              "      <th>503</th>\n",
              "      <td>Чеченская Республика</td>\n",
              "      <td>1688378</td>\n",
              "      <td>28400.0</td>\n",
              "      <td>44.18</td>\n",
              "      <td>46.98</td>\n",
              "      <td>122.0</td>\n",
              "      <td>86.0</td>\n",
              "      <td>2.3</td>\n",
              "      <td>1.859181</td>\n",
              "      <td>75.04</td>\n",
              "      <td>15376.00</td>\n",
              "      <td>8.849962</td>\n",
              "      <td>36.600</td>\n",
              "      <td>80.050</td>\n",
              "    </tr>\n",
              "  </tbody>\n",
              "</table>\n",
              "</div>"
            ],
            "text/plain": [
              "                           Регион  ...  Социальная ориентированность бюджетов\n",
              "57                Республика Тыва  ...                                 12.295\n",
              "143            Республика Хакасия  ...                                 27.610\n",
              "228            Республика Хакасия  ...                                 27.610\n",
              "426              Амурская область  ...                                 44.350\n",
              "435  Еврейская автономная область  ...                                 46.500\n",
              "483            Республика Хакасия  ...                                 41.890\n",
              "492           Ставропольский край  ...                                 55.050\n",
              "493            Тамбовская область  ...                                 39.010\n",
              "503          Чеченская Республика  ...                                 80.050\n",
              "\n",
              "[9 rows x 14 columns]"
            ]
          },
          "metadata": {
            "tags": []
          },
          "execution_count": 21
        }
      ]
    },
    {
      "cell_type": "code",
      "metadata": {
        "id": "S78uRQt5IZ6c"
      },
      "source": [
        "df = df.drop([57,143,228], axis=0)"
      ],
      "execution_count": 22,
      "outputs": []
    },
    {
      "cell_type": "code",
      "metadata": {
        "colab": {
          "base_uri": "https://localhost:8080/"
        },
        "id": "lqID5q0dHEZl",
        "outputId": "7eb18bd5-f304-48a2-a46c-a22faf5c7892"
      },
      "source": [
        "col = 'Качество жизни'\n",
        "df[col].max(), df[col].mean(), df[col].std(), df[col].min()"
      ],
      "execution_count": 23,
      "outputs": [
        {
          "output_type": "execute_result",
          "data": {
            "text/plain": [
              "(79.275, 42.22385549091034, 13.29158772797071, 7.668663671)"
            ]
          },
          "metadata": {
            "tags": []
          },
          "execution_count": 23
        }
      ]
    },
    {
      "cell_type": "markdown",
      "metadata": {
        "id": "gBCj1zXW82Aq"
      },
      "source": [
        "## Разделение данных на тренировочную выборку и тестовую выборку"
      ]
    },
    {
      "cell_type": "code",
      "metadata": {
        "id": "l9LR0IS4buw8"
      },
      "source": [
        "df1 = df.loc[:84,:]\n",
        "df1.to_csv('index_happy1.csv')"
      ],
      "execution_count": 62,
      "outputs": []
    },
    {
      "cell_type": "code",
      "metadata": {
        "id": "h_KPaWtkb_-g"
      },
      "source": [
        "df2 = df.loc[509-84:,:]\n",
        "df2.to_csv('index_happy2.csv')"
      ],
      "execution_count": 61,
      "outputs": []
    },
    {
      "cell_type": "markdown",
      "metadata": {
        "id": "khfPg8co9Avk"
      },
      "source": [
        "## Обучение на моделях"
      ]
    },
    {
      "cell_type": "code",
      "metadata": {
        "id": "4PrWC0rm50ZW"
      },
      "source": [
        "def train_model(model, model_name, parameters,grid: True, x_train, y_train, x_test, y_test):\n",
        "    if grid==True:\n",
        "        grid_search = GridSearchCV(model, parameters, n_jobs=-1, scoring = 'neg_mean_squared_error')\n",
        "        grid_search.fit(x_train, y_train)\n",
        "        y_predict = grid_search.predict(x_test)\n",
        "        print('The parameters combination {} that would give best accuracy is : '.format(model_name))\n",
        "        print(grid_search.best_params_)\n",
        "        #print(100 + grid_search.best_score_)\n",
        "    else:\n",
        "        model.fit(x_train, y_train)\n",
        "        y_predict = model.predict(x_test)\n",
        "        #print('{} predict: '.format(model), y_predict, 'test: ', y_test)\n",
        "    #print(model_name, mean_absolute_percentage_error(y_test, y_predict))\n",
        "    \n",
        "    #print (\"r2/variance : {}\".format(model.score(y_predict,y_test)))\n",
        "    return get_metrics(model_name,y_test,y_predict,model_name)"
      ],
      "execution_count": 24,
      "outputs": []
    },
    {
      "cell_type": "markdown",
      "metadata": {
        "id": "pe3a-8JD50ZW"
      },
      "source": [
        "## 2 Вариант"
      ]
    },
    {
      "cell_type": "code",
      "metadata": {
        "id": "E0zD_Uf950ZW"
      },
      "source": [
        "from sklearn.linear_model import HuberRegressor\n",
        "def train_models(X,y,X_test, y_test):\n",
        "    lst_metrics=[]\n",
        "        \n",
        "    xgb_params = {\n",
        "    'n_estimators': list(range(5,50)),\n",
        "    'eval_metric':['mae', 'mse'], \n",
        "    'max_depth': list(range(3))\n",
        "    \n",
        "     }\n",
        "    xgb_ = xgb.XGBRegressor()\n",
        "    lst_metrics.append(train_model(xgb_, 'xgb', xgb_params,True, X,y,X_test, y_test))\n",
        "    \n",
        "    lin_reg = LinearRegression()\n",
        "    lst_metrics.append(train_model(lin_reg, 'Linear Regression', xgb_params,False, X,y,X_test, y_test))\n",
        "    \n",
        "    ridge_parametrs = {\n",
        "     'solver': ['svd', 'cholesky', 'lsqr', 'sparse_cg', 'sag', 'saga'],\n",
        "    'alpha': [0.001, 0.1, 0.02, 0.05, 0.5, 0.8, 1],\n",
        "    }\n",
        "    clf = Ridge()\n",
        "    lst_metrics.append(train_model(clf, 'Ridge', ridge_parametrs, True, X,y,X_test, y_test))\n",
        "    \n",
        "    \n",
        "    svr = LinearSVR()\n",
        "    svm_parametrs = {\n",
        "    'C' : np.arange(1, 80, 5), #параметр c\n",
        "    'max_iter': np.arange(15, 150,10),\n",
        "    }\n",
        "    lst_metrics.append(train_model(svr, 'SVM', svm_parametrs, True, X,y,X_test, y_test))\n",
        "    \n",
        "    voting = VotingRegressor(estimators = [('lr',lin_reg), ('svm',svr), ('huber',HuberRegressor())])\n",
        "    voting_parametrs = {\n",
        "    }\n",
        "    lst_metrics.append(train_model(voting, 'voiting', voting_parametrs, False, X,y,X_test, y_test))\n",
        "    return lst_metrics"
      ],
      "execution_count": 30,
      "outputs": []
    },
    {
      "cell_type": "code",
      "metadata": {
        "id": "D56-SSd50iL6"
      },
      "source": [
        ""
      ],
      "execution_count": 25,
      "outputs": []
    },
    {
      "cell_type": "code",
      "metadata": {
        "colab": {
          "base_uri": "https://localhost:8080/",
          "height": 204
        },
        "id": "Rw_n4x_f0c8X",
        "outputId": "1ffe04b0-332c-400e-e7d8-8e5b614d3241"
      },
      "source": [
        "ridge_parametrs = {\n",
        "     'solver': ['svd', 'cholesky', 'lsqr', 'sparse_cg', 'sag', 'saga'],\n",
        "    'alpha': [0.001, 0.1, 0.02, 0.05, 0.5, 0.8, 1],\n",
        "    }\n",
        "clf = Ridge()\n",
        "model = train_model(clf, 'Ridge', ridge_parametrs, True, X,y,X_test, y_test)"
      ],
      "execution_count": 26,
      "outputs": [
        {
          "output_type": "error",
          "ename": "NameError",
          "evalue": "ignored",
          "traceback": [
            "\u001b[0;31m---------------------------------------------------------------------------\u001b[0m",
            "\u001b[0;31mNameError\u001b[0m                                 Traceback (most recent call last)",
            "\u001b[0;32m<ipython-input-26-888df34a598e>\u001b[0m in \u001b[0;36m<module>\u001b[0;34m()\u001b[0m\n\u001b[1;32m      4\u001b[0m     }\n\u001b[1;32m      5\u001b[0m \u001b[0mclf\u001b[0m \u001b[0;34m=\u001b[0m \u001b[0mRidge\u001b[0m\u001b[0;34m(\u001b[0m\u001b[0;34m)\u001b[0m\u001b[0;34m\u001b[0m\u001b[0;34m\u001b[0m\u001b[0m\n\u001b[0;32m----> 6\u001b[0;31m \u001b[0mmodel\u001b[0m \u001b[0;34m=\u001b[0m \u001b[0mtrain_model\u001b[0m\u001b[0;34m(\u001b[0m\u001b[0mclf\u001b[0m\u001b[0;34m,\u001b[0m \u001b[0;34m'Ridge'\u001b[0m\u001b[0;34m,\u001b[0m \u001b[0mridge_parametrs\u001b[0m\u001b[0;34m,\u001b[0m \u001b[0;32mTrue\u001b[0m\u001b[0;34m,\u001b[0m \u001b[0mX\u001b[0m\u001b[0;34m,\u001b[0m\u001b[0my\u001b[0m\u001b[0;34m,\u001b[0m\u001b[0mX_test\u001b[0m\u001b[0;34m,\u001b[0m \u001b[0my_test\u001b[0m\u001b[0;34m)\u001b[0m\u001b[0;34m\u001b[0m\u001b[0;34m\u001b[0m\u001b[0m\n\u001b[0m",
            "\u001b[0;31mNameError\u001b[0m: name 'X' is not defined"
          ]
        }
      ]
    },
    {
      "cell_type": "code",
      "metadata": {
        "id": "GOAA5TLc50ZX"
      },
      "source": [
        "from sklearn import preprocessing\n",
        "def scores(df, del_columns, type_normilize):\n",
        "    print('Удаленные столбцы:', del_columns)\n",
        "    drop_list = ['Регион','Качество жизни']\n",
        "    target = 'Качество жизни'\n",
        "    df = df.copy(deep = True).drop(del_columns, axis=1)\n",
        "    x_train,x_test,y_train,y_test = train_test_split(df.drop(drop_list,axis = 1),\n",
        "                                                 df[target]/100,\n",
        "                                                 random_state = 22,\n",
        "                                                 test_size = 0.25)\n",
        "    if type_normilize == 'mean':\n",
        "      x_train_scaled = (x_train-np.mean(x_train))/np.sqrt(np.std(x_train))\n",
        "      y_train_scaled = (y_train-np.mean(y_train))/np.sqrt(np.std(y_train))\n",
        "      x_test_scaled = (x_test-np.mean(x_test))/np.sqrt(np.std(x_test))\n",
        "      y_test_scaled = (y_test-np.mean(y_test))/np.sqrt(np.std(y_test))\n",
        "    if type_normilize == 'min_max':\n",
        "      x_train_scaled = (x_train-np.min(x_train))/(np.max(x_train)-np.min(x_train))\n",
        "      y_train_scaled = (y_train-np.min(y_train))/(np.max(y_train)-np.min(y_train))\n",
        "      x_test_scaled = (x_test-np.min(x_test))/(np.max(x_test)-np.min(x_test))\n",
        "      y_test_scaled = (y_test-np.min(y_test))/(np.max(y_test)-np.min(y_test))\n",
        "    if type_normilize == 'StandartScaler':\n",
        "      scaler = StandardScaler()\n",
        "      scaler.fit(x_train)\n",
        "      x_train_scaled = scaler.transform(x_train)\n",
        "      x_test_scaled = scaler.transform(x_test)\n",
        "      y_train_scaled = y_train/np.max(y_train)\n",
        "      y_test_scaled = y_test/np.max(y_test)\n",
        "    return train_models(x_train_scaled,y_train, x_test_scaled, y_test)"
      ],
      "execution_count": 27,
      "outputs": []
    },
    {
      "cell_type": "markdown",
      "metadata": {
        "id": "Qfz0psu650ZY"
      },
      "source": [
        "df1 = df.copy(deep = True).drop(['95',\n",
        "              'ДТП с погибшими (на 100000 чел)', 'Прожиточный минимум'\n",
        "              ], axis = 1)\n",
        "#Медианная зп (руб), ДТП на 100000 чел, 92"
      ]
    },
    {
      "cell_type": "code",
      "metadata": {
        "colab": {
          "base_uri": "https://localhost:8080/"
        },
        "id": "8Fo2JOQ__mbg",
        "outputId": "1ad1722d-0bba-4690-f284-1fc806e84c69"
      },
      "source": [
        "np.std(df)\n"
      ],
      "execution_count": 122,
      "outputs": [
        {
          "output_type": "execute_result",
          "data": {
            "text/plain": [
              "Население                                1.793417e+06\n",
              "Медианная зп (руб)                       1.024913e+04\n",
              "92                                       4.856029e+00\n",
              "95                                       4.872323e+00\n",
              "ДТП на 100000 чел                        5.347377e+01\n",
              "ДТП с погибшими (на 100000 чел)          3.886501e+01\n",
              "Уровень безработицы. %                   3.524114e+00\n",
              "Преступность(кол-во на 10000 чел)        1.662199e+01\n",
              "Продолжительность жизни                  2.465986e+00\n",
              "Прожиточный минимум                      2.698118e+03\n",
              "Качество жизни                           2.785817e+01\n",
              "Индекс привлекательности рабочей силы    1.197127e+01\n",
              "Социальная ориентированность бюджетов    1.511566e+01\n",
              "dtype: float64"
            ]
          },
          "metadata": {
            "tags": []
          },
          "execution_count": 122
        }
      ]
    },
    {
      "cell_type": "code",
      "metadata": {
        "id": "KxCAtTyG50ZY"
      },
      "source": [
        "lst_drops = ['95', 'Прожиточный минимум']"
      ],
      "execution_count": 31,
      "outputs": []
    },
    {
      "cell_type": "code",
      "metadata": {
        "colab": {
          "base_uri": "https://localhost:8080/",
          "height": 407
        },
        "id": "uNkdApEQ50ZY",
        "outputId": "86d36830-a73d-4ce3-9e6f-e9a1a589fcf2"
      },
      "source": [
        "df_metrics = pd.DataFrame(scores(df, lst_drops, 'StandartScaler'), columns=['model_name', 'MAE', 'RMSE', 'R2'])\n",
        "df_metrics"
      ],
      "execution_count": 32,
      "outputs": [
        {
          "output_type": "stream",
          "text": [
            "Удаленные столбцы: ['95', 'Прожиточный минимум']\n",
            "[23:01:09] WARNING: /workspace/src/objective/regression_obj.cu:152: reg:linear is now deprecated in favor of reg:squarederror.\n",
            "The parameters combination xgb that would give best accuracy is : \n",
            "{'eval_metric': 'mae', 'max_depth': 2, 'n_estimators': 44}\n",
            "The parameters combination Ridge that would give best accuracy is : \n",
            "{'alpha': 0.8, 'solver': 'sag'}\n",
            "The parameters combination SVM that would give best accuracy is : \n",
            "{'C': 1, 'max_iter': 145}\n"
          ],
          "name": "stdout"
        },
        {
          "output_type": "stream",
          "text": [
            "/usr/local/lib/python3.7/dist-packages/sklearn/svm/_base.py:947: ConvergenceWarning: Liblinear failed to converge, increase the number of iterations.\n",
            "  \"the number of iterations.\", ConvergenceWarning)\n",
            "/usr/local/lib/python3.7/dist-packages/sklearn/svm/_base.py:947: ConvergenceWarning: Liblinear failed to converge, increase the number of iterations.\n",
            "  \"the number of iterations.\", ConvergenceWarning)\n"
          ],
          "name": "stderr"
        },
        {
          "output_type": "execute_result",
          "data": {
            "text/html": [
              "<div>\n",
              "<style scoped>\n",
              "    .dataframe tbody tr th:only-of-type {\n",
              "        vertical-align: middle;\n",
              "    }\n",
              "\n",
              "    .dataframe tbody tr th {\n",
              "        vertical-align: top;\n",
              "    }\n",
              "\n",
              "    .dataframe thead th {\n",
              "        text-align: right;\n",
              "    }\n",
              "</style>\n",
              "<table border=\"1\" class=\"dataframe\">\n",
              "  <thead>\n",
              "    <tr style=\"text-align: right;\">\n",
              "      <th></th>\n",
              "      <th>model_name</th>\n",
              "      <th>MAE</th>\n",
              "      <th>RMSE</th>\n",
              "      <th>R2</th>\n",
              "    </tr>\n",
              "  </thead>\n",
              "  <tbody>\n",
              "    <tr>\n",
              "      <th>0</th>\n",
              "      <td>xgb</td>\n",
              "      <td>0.075435</td>\n",
              "      <td>0.011037</td>\n",
              "      <td>0.332647</td>\n",
              "    </tr>\n",
              "    <tr>\n",
              "      <th>1</th>\n",
              "      <td>Linear Regression</td>\n",
              "      <td>0.077265</td>\n",
              "      <td>0.010226</td>\n",
              "      <td>0.381667</td>\n",
              "    </tr>\n",
              "    <tr>\n",
              "      <th>2</th>\n",
              "      <td>Ridge</td>\n",
              "      <td>0.077232</td>\n",
              "      <td>0.010221</td>\n",
              "      <td>0.382027</td>\n",
              "    </tr>\n",
              "    <tr>\n",
              "      <th>3</th>\n",
              "      <td>SVM</td>\n",
              "      <td>0.087164</td>\n",
              "      <td>0.013292</td>\n",
              "      <td>0.196304</td>\n",
              "    </tr>\n",
              "    <tr>\n",
              "      <th>4</th>\n",
              "      <td>voiting</td>\n",
              "      <td>0.077445</td>\n",
              "      <td>0.011022</td>\n",
              "      <td>0.333545</td>\n",
              "    </tr>\n",
              "  </tbody>\n",
              "</table>\n",
              "</div>"
            ],
            "text/plain": [
              "          model_name       MAE      RMSE        R2\n",
              "0                xgb  0.075435  0.011037  0.332647\n",
              "1  Linear Regression  0.077265  0.010226  0.381667\n",
              "2              Ridge  0.077232  0.010221  0.382027\n",
              "3                SVM  0.087164  0.013292  0.196304\n",
              "4            voiting  0.077445  0.011022  0.333545"
            ]
          },
          "metadata": {
            "tags": []
          },
          "execution_count": 32
        }
      ]
    },
    {
      "cell_type": "code",
      "metadata": {
        "colab": {
          "base_uri": "https://localhost:8080/",
          "height": 407
        },
        "id": "4JVfv6h850ZY",
        "outputId": "e1063cda-84b0-4b9b-c61b-d69ef933eb71"
      },
      "source": [
        "lst_drops = ['95','Медианная зп (руб)']\n",
        "df_metrics = pd.DataFrame(scores(df, lst_drops,'min_max'), columns=['model_name', 'MAE', 'RMSE','R2'])\n",
        "df_metrics"
      ],
      "execution_count": 33,
      "outputs": [
        {
          "output_type": "stream",
          "text": [
            "Удаленные столбцы: ['95', 'Медианная зп (руб)']\n",
            "[23:01:36] WARNING: /workspace/src/objective/regression_obj.cu:152: reg:linear is now deprecated in favor of reg:squarederror.\n",
            "The parameters combination xgb that would give best accuracy is : \n",
            "{'eval_metric': 'mae', 'max_depth': 2, 'n_estimators': 40}\n",
            "The parameters combination Ridge that would give best accuracy is : \n",
            "{'alpha': 0.5, 'solver': 'lsqr'}\n",
            "The parameters combination SVM that would give best accuracy is : \n",
            "{'C': 1, 'max_iter': 145}\n"
          ],
          "name": "stdout"
        },
        {
          "output_type": "stream",
          "text": [
            "/usr/local/lib/python3.7/dist-packages/sklearn/svm/_base.py:947: ConvergenceWarning: Liblinear failed to converge, increase the number of iterations.\n",
            "  \"the number of iterations.\", ConvergenceWarning)\n",
            "/usr/local/lib/python3.7/dist-packages/sklearn/svm/_base.py:947: ConvergenceWarning: Liblinear failed to converge, increase the number of iterations.\n",
            "  \"the number of iterations.\", ConvergenceWarning)\n"
          ],
          "name": "stderr"
        },
        {
          "output_type": "execute_result",
          "data": {
            "text/html": [
              "<div>\n",
              "<style scoped>\n",
              "    .dataframe tbody tr th:only-of-type {\n",
              "        vertical-align: middle;\n",
              "    }\n",
              "\n",
              "    .dataframe tbody tr th {\n",
              "        vertical-align: top;\n",
              "    }\n",
              "\n",
              "    .dataframe thead th {\n",
              "        text-align: right;\n",
              "    }\n",
              "</style>\n",
              "<table border=\"1\" class=\"dataframe\">\n",
              "  <thead>\n",
              "    <tr style=\"text-align: right;\">\n",
              "      <th></th>\n",
              "      <th>model_name</th>\n",
              "      <th>MAE</th>\n",
              "      <th>RMSE</th>\n",
              "      <th>R2</th>\n",
              "    </tr>\n",
              "  </thead>\n",
              "  <tbody>\n",
              "    <tr>\n",
              "      <th>0</th>\n",
              "      <td>xgb</td>\n",
              "      <td>0.079910</td>\n",
              "      <td>0.011733</td>\n",
              "      <td>0.290596</td>\n",
              "    </tr>\n",
              "    <tr>\n",
              "      <th>1</th>\n",
              "      <td>Linear Regression</td>\n",
              "      <td>0.077678</td>\n",
              "      <td>0.010454</td>\n",
              "      <td>0.367938</td>\n",
              "    </tr>\n",
              "    <tr>\n",
              "      <th>2</th>\n",
              "      <td>Ridge</td>\n",
              "      <td>0.077504</td>\n",
              "      <td>0.010301</td>\n",
              "      <td>0.377132</td>\n",
              "    </tr>\n",
              "    <tr>\n",
              "      <th>3</th>\n",
              "      <td>SVM</td>\n",
              "      <td>0.085490</td>\n",
              "      <td>0.013970</td>\n",
              "      <td>0.155306</td>\n",
              "    </tr>\n",
              "    <tr>\n",
              "      <th>4</th>\n",
              "      <td>voiting</td>\n",
              "      <td>0.078630</td>\n",
              "      <td>0.011383</td>\n",
              "      <td>0.311744</td>\n",
              "    </tr>\n",
              "  </tbody>\n",
              "</table>\n",
              "</div>"
            ],
            "text/plain": [
              "          model_name       MAE      RMSE        R2\n",
              "0                xgb  0.079910  0.011733  0.290596\n",
              "1  Linear Regression  0.077678  0.010454  0.367938\n",
              "2              Ridge  0.077504  0.010301  0.377132\n",
              "3                SVM  0.085490  0.013970  0.155306\n",
              "4            voiting  0.078630  0.011383  0.311744"
            ]
          },
          "metadata": {
            "tags": []
          },
          "execution_count": 33
        }
      ]
    },
    {
      "cell_type": "code",
      "metadata": {
        "colab": {
          "base_uri": "https://localhost:8080/",
          "height": 407
        },
        "id": "3KuMCVps50ZZ",
        "outputId": "52b2ff3e-9983-48a4-fecc-53ea65939b16"
      },
      "source": [
        "lst_drops = ['92', 'Прожиточный минимум']\n",
        "df_metrics = pd.DataFrame(scores(df, lst_drops, 'min_max'), columns=['model_name', 'MAE', 'RMSE','R2'])\n",
        "df_metrics"
      ],
      "execution_count": 34,
      "outputs": [
        {
          "output_type": "stream",
          "text": [
            "Удаленные столбцы: ['92', 'Прожиточный минимум']\n",
            "[23:01:52] WARNING: /workspace/src/objective/regression_obj.cu:152: reg:linear is now deprecated in favor of reg:squarederror.\n",
            "The parameters combination xgb that would give best accuracy is : \n",
            "{'eval_metric': 'mae', 'max_depth': 2, 'n_estimators': 48}\n",
            "The parameters combination Ridge that would give best accuracy is : \n",
            "{'alpha': 0.8, 'solver': 'lsqr'}\n",
            "The parameters combination SVM that would give best accuracy is : \n",
            "{'C': 1, 'max_iter': 75}\n"
          ],
          "name": "stdout"
        },
        {
          "output_type": "stream",
          "text": [
            "/usr/local/lib/python3.7/dist-packages/sklearn/svm/_base.py:947: ConvergenceWarning: Liblinear failed to converge, increase the number of iterations.\n",
            "  \"the number of iterations.\", ConvergenceWarning)\n",
            "/usr/local/lib/python3.7/dist-packages/sklearn/svm/_base.py:947: ConvergenceWarning: Liblinear failed to converge, increase the number of iterations.\n",
            "  \"the number of iterations.\", ConvergenceWarning)\n"
          ],
          "name": "stderr"
        },
        {
          "output_type": "execute_result",
          "data": {
            "text/html": [
              "<div>\n",
              "<style scoped>\n",
              "    .dataframe tbody tr th:only-of-type {\n",
              "        vertical-align: middle;\n",
              "    }\n",
              "\n",
              "    .dataframe tbody tr th {\n",
              "        vertical-align: top;\n",
              "    }\n",
              "\n",
              "    .dataframe thead th {\n",
              "        text-align: right;\n",
              "    }\n",
              "</style>\n",
              "<table border=\"1\" class=\"dataframe\">\n",
              "  <thead>\n",
              "    <tr style=\"text-align: right;\">\n",
              "      <th></th>\n",
              "      <th>model_name</th>\n",
              "      <th>MAE</th>\n",
              "      <th>RMSE</th>\n",
              "      <th>R2</th>\n",
              "    </tr>\n",
              "  </thead>\n",
              "  <tbody>\n",
              "    <tr>\n",
              "      <th>0</th>\n",
              "      <td>xgb</td>\n",
              "      <td>0.081914</td>\n",
              "      <td>0.011982</td>\n",
              "      <td>0.275531</td>\n",
              "    </tr>\n",
              "    <tr>\n",
              "      <th>1</th>\n",
              "      <td>Linear Regression</td>\n",
              "      <td>0.077335</td>\n",
              "      <td>0.010222</td>\n",
              "      <td>0.381918</td>\n",
              "    </tr>\n",
              "    <tr>\n",
              "      <th>2</th>\n",
              "      <td>Ridge</td>\n",
              "      <td>0.077167</td>\n",
              "      <td>0.010106</td>\n",
              "      <td>0.388931</td>\n",
              "    </tr>\n",
              "    <tr>\n",
              "      <th>3</th>\n",
              "      <td>SVM</td>\n",
              "      <td>0.078165</td>\n",
              "      <td>0.011999</td>\n",
              "      <td>0.274465</td>\n",
              "    </tr>\n",
              "    <tr>\n",
              "      <th>4</th>\n",
              "      <td>voiting</td>\n",
              "      <td>0.078961</td>\n",
              "      <td>0.011376</td>\n",
              "      <td>0.312178</td>\n",
              "    </tr>\n",
              "  </tbody>\n",
              "</table>\n",
              "</div>"
            ],
            "text/plain": [
              "          model_name       MAE      RMSE        R2\n",
              "0                xgb  0.081914  0.011982  0.275531\n",
              "1  Linear Regression  0.077335  0.010222  0.381918\n",
              "2              Ridge  0.077167  0.010106  0.388931\n",
              "3                SVM  0.078165  0.011999  0.274465\n",
              "4            voiting  0.078961  0.011376  0.312178"
            ]
          },
          "metadata": {
            "tags": []
          },
          "execution_count": 34
        }
      ]
    },
    {
      "cell_type": "code",
      "metadata": {
        "colab": {
          "base_uri": "https://localhost:8080/",
          "height": 407
        },
        "id": "uNLAGxhg50ZZ",
        "outputId": "c01763c4-9564-4b66-cce8-35a2cc00cec6"
      },
      "source": [
        "rlst_drops = ['95']\n",
        "df_metrics = pd.DataFrame(scores(df, rlst_drops,'StandartScaler'), columns=['model_name', 'MAE', 'RMSE','R2'])\n",
        "df_metrics"
      ],
      "execution_count": 35,
      "outputs": [
        {
          "output_type": "stream",
          "text": [
            "Удаленные столбцы: ['95']\n",
            "[23:02:12] WARNING: /workspace/src/objective/regression_obj.cu:152: reg:linear is now deprecated in favor of reg:squarederror.\n",
            "The parameters combination xgb that would give best accuracy is : \n",
            "{'eval_metric': 'mae', 'max_depth': 2, 'n_estimators': 44}\n",
            "The parameters combination Ridge that would give best accuracy is : \n",
            "{'alpha': 1, 'solver': 'lsqr'}\n",
            "The parameters combination SVM that would give best accuracy is : \n",
            "{'C': 1, 'max_iter': 145}\n"
          ],
          "name": "stdout"
        },
        {
          "output_type": "stream",
          "text": [
            "/usr/local/lib/python3.7/dist-packages/sklearn/svm/_base.py:947: ConvergenceWarning: Liblinear failed to converge, increase the number of iterations.\n",
            "  \"the number of iterations.\", ConvergenceWarning)\n",
            "/usr/local/lib/python3.7/dist-packages/sklearn/svm/_base.py:947: ConvergenceWarning: Liblinear failed to converge, increase the number of iterations.\n",
            "  \"the number of iterations.\", ConvergenceWarning)\n"
          ],
          "name": "stderr"
        },
        {
          "output_type": "execute_result",
          "data": {
            "text/html": [
              "<div>\n",
              "<style scoped>\n",
              "    .dataframe tbody tr th:only-of-type {\n",
              "        vertical-align: middle;\n",
              "    }\n",
              "\n",
              "    .dataframe tbody tr th {\n",
              "        vertical-align: top;\n",
              "    }\n",
              "\n",
              "    .dataframe thead th {\n",
              "        text-align: right;\n",
              "    }\n",
              "</style>\n",
              "<table border=\"1\" class=\"dataframe\">\n",
              "  <thead>\n",
              "    <tr style=\"text-align: right;\">\n",
              "      <th></th>\n",
              "      <th>model_name</th>\n",
              "      <th>MAE</th>\n",
              "      <th>RMSE</th>\n",
              "      <th>R2</th>\n",
              "    </tr>\n",
              "  </thead>\n",
              "  <tbody>\n",
              "    <tr>\n",
              "      <th>0</th>\n",
              "      <td>xgb</td>\n",
              "      <td>0.075492</td>\n",
              "      <td>0.011060</td>\n",
              "      <td>0.331273</td>\n",
              "    </tr>\n",
              "    <tr>\n",
              "      <th>1</th>\n",
              "      <td>Linear Regression</td>\n",
              "      <td>0.077372</td>\n",
              "      <td>0.010278</td>\n",
              "      <td>0.378561</td>\n",
              "    </tr>\n",
              "    <tr>\n",
              "      <th>2</th>\n",
              "      <td>Ridge</td>\n",
              "      <td>0.077191</td>\n",
              "      <td>0.010239</td>\n",
              "      <td>0.380928</td>\n",
              "    </tr>\n",
              "    <tr>\n",
              "      <th>3</th>\n",
              "      <td>SVM</td>\n",
              "      <td>0.090252</td>\n",
              "      <td>0.014186</td>\n",
              "      <td>0.142252</td>\n",
              "    </tr>\n",
              "    <tr>\n",
              "      <th>4</th>\n",
              "      <td>voiting</td>\n",
              "      <td>0.077528</td>\n",
              "      <td>0.011123</td>\n",
              "      <td>0.327438</td>\n",
              "    </tr>\n",
              "  </tbody>\n",
              "</table>\n",
              "</div>"
            ],
            "text/plain": [
              "          model_name       MAE      RMSE        R2\n",
              "0                xgb  0.075492  0.011060  0.331273\n",
              "1  Linear Regression  0.077372  0.010278  0.378561\n",
              "2              Ridge  0.077191  0.010239  0.380928\n",
              "3                SVM  0.090252  0.014186  0.142252\n",
              "4            voiting  0.077528  0.011123  0.327438"
            ]
          },
          "metadata": {
            "tags": []
          },
          "execution_count": 35
        }
      ]
    },
    {
      "cell_type": "markdown",
      "metadata": {
        "id": "nt-GKLAm50ZZ"
      },
      "source": [
        "Для предсказаний выбрана модель Ridge"
      ]
    },
    {
      "cell_type": "code",
      "metadata": {
        "id": "rI3d2K2Q50Za"
      },
      "source": [
        "lst_drops = ['95']\n",
        "drop_list = ['Регион','Качество жизни']\n",
        "\n",
        "target = 'Качество жизни'\n",
        "df1 = df.copy(deep = True).drop(lst_drops, axis=1)\n",
        "x_train,x_test,y_train,y_test = train_test_split(df1.drop(drop_list,axis = 1),\n",
        "                                                 df1[target]/100,\n",
        "                                                 random_state = 22,\n",
        "                                                 test_size = 0.25)"
      ],
      "execution_count": 39,
      "outputs": []
    },
    {
      "cell_type": "code",
      "metadata": {
        "id": "Dw3vwjaTqV2p"
      },
      "source": [
        "x_train_scaled = (x_train-np.min(x_train))/(np.max(x_train)-np.min(x_train))\n",
        "x_test_scaled = (x_test-np.min(x_test))/(np.max(x_test)-np.min(x_test))"
      ],
      "execution_count": 40,
      "outputs": []
    },
    {
      "cell_type": "code",
      "metadata": {
        "colab": {
          "base_uri": "https://localhost:8080/",
          "height": 796
        },
        "id": "gP-HRlRQ17ck",
        "outputId": "d2169b18-23a1-448e-c082-b21fd90f3e2c"
      },
      "source": [
        "import xgboost as xgb\n",
        "xgb_params = {\n",
        "    'n_estimators': list(range(5,50)),\n",
        "    'eval_metric':['mae', 'mse'], \n",
        "    'max_depth': list(range(3))\n",
        "    \n",
        "     }\n",
        "xgb_ = xgb.XGBRegressor(eval_metric= 'mae', max_depth= 2, n_estimators = 44)\n",
        "xgb1 = train_model(clf, 'xgb', xgb_params, True, x_train_scaled,y_train,x_test_scaled, y_test)"
      ],
      "execution_count": 45,
      "outputs": [
        {
          "output_type": "error",
          "ename": "ValueError",
          "evalue": "ignored",
          "traceback": [
            "\u001b[0;31m---------------------------------------------------------------------------\u001b[0m",
            "\u001b[0;31m_RemoteTraceback\u001b[0m                          Traceback (most recent call last)",
            "\u001b[0;31m_RemoteTraceback\u001b[0m: \n\"\"\"\nTraceback (most recent call last):\n  File \"/usr/local/lib/python3.7/dist-packages/joblib/externals/loky/process_executor.py\", line 431, in _process_worker\n    r = call_item()\n  File \"/usr/local/lib/python3.7/dist-packages/joblib/externals/loky/process_executor.py\", line 285, in __call__\n    return self.fn(*self.args, **self.kwargs)\n  File \"/usr/local/lib/python3.7/dist-packages/joblib/_parallel_backends.py\", line 595, in __call__\n    return self.func(*args, **kwargs)\n  File \"/usr/local/lib/python3.7/dist-packages/joblib/parallel.py\", line 263, in __call__\n    for func, args, kwargs in self.items]\n  File \"/usr/local/lib/python3.7/dist-packages/joblib/parallel.py\", line 263, in <listcomp>\n    for func, args, kwargs in self.items]\n  File \"/usr/local/lib/python3.7/dist-packages/sklearn/model_selection/_validation.py\", line 504, in _fit_and_score\n    estimator = estimator.set_params(**cloned_parameters)\n  File \"/usr/local/lib/python3.7/dist-packages/sklearn/base.py\", line 236, in set_params\n    (key, self))\nValueError: Invalid parameter eval_metric for estimator Ridge(alpha=1.0, copy_X=True, fit_intercept=True, max_iter=None,\n      normalize=False, random_state=None, solver='auto', tol=0.001). Check the list of available parameters with `estimator.get_params().keys()`.\n\"\"\"",
            "\nThe above exception was the direct cause of the following exception:\n",
            "\u001b[0;31mValueError\u001b[0m                                Traceback (most recent call last)",
            "\u001b[0;32m<ipython-input-45-9e87c0f5cfae>\u001b[0m in \u001b[0;36m<module>\u001b[0;34m()\u001b[0m\n\u001b[1;32m      7\u001b[0m      }\n\u001b[1;32m      8\u001b[0m \u001b[0mxgb_\u001b[0m \u001b[0;34m=\u001b[0m \u001b[0mxgb\u001b[0m\u001b[0;34m.\u001b[0m\u001b[0mXGBRegressor\u001b[0m\u001b[0;34m(\u001b[0m\u001b[0meval_metric\u001b[0m\u001b[0;34m=\u001b[0m \u001b[0;34m'mae'\u001b[0m\u001b[0;34m,\u001b[0m \u001b[0mmax_depth\u001b[0m\u001b[0;34m=\u001b[0m \u001b[0;36m2\u001b[0m\u001b[0;34m,\u001b[0m \u001b[0mn_estimators\u001b[0m \u001b[0;34m=\u001b[0m \u001b[0;36m44\u001b[0m\u001b[0;34m)\u001b[0m\u001b[0;34m\u001b[0m\u001b[0;34m\u001b[0m\u001b[0m\n\u001b[0;32m----> 9\u001b[0;31m \u001b[0mxgb1\u001b[0m \u001b[0;34m=\u001b[0m \u001b[0mtrain_model\u001b[0m\u001b[0;34m(\u001b[0m\u001b[0mclf\u001b[0m\u001b[0;34m,\u001b[0m \u001b[0;34m'xgb'\u001b[0m\u001b[0;34m,\u001b[0m \u001b[0mxgb_params\u001b[0m\u001b[0;34m,\u001b[0m \u001b[0;32mTrue\u001b[0m\u001b[0;34m,\u001b[0m \u001b[0mx_train_scaled\u001b[0m\u001b[0;34m,\u001b[0m\u001b[0my_train\u001b[0m\u001b[0;34m,\u001b[0m\u001b[0mx_test_scaled\u001b[0m\u001b[0;34m,\u001b[0m \u001b[0my_test\u001b[0m\u001b[0;34m)\u001b[0m\u001b[0;34m\u001b[0m\u001b[0;34m\u001b[0m\u001b[0m\n\u001b[0m",
            "\u001b[0;32m<ipython-input-24-148310aac572>\u001b[0m in \u001b[0;36mtrain_model\u001b[0;34m(model, model_name, parameters, grid, x_train, y_train, x_test, y_test)\u001b[0m\n\u001b[1;32m      2\u001b[0m     \u001b[0;32mif\u001b[0m \u001b[0mgrid\u001b[0m\u001b[0;34m==\u001b[0m\u001b[0;32mTrue\u001b[0m\u001b[0;34m:\u001b[0m\u001b[0;34m\u001b[0m\u001b[0;34m\u001b[0m\u001b[0m\n\u001b[1;32m      3\u001b[0m         \u001b[0mgrid_search\u001b[0m \u001b[0;34m=\u001b[0m \u001b[0mGridSearchCV\u001b[0m\u001b[0;34m(\u001b[0m\u001b[0mmodel\u001b[0m\u001b[0;34m,\u001b[0m \u001b[0mparameters\u001b[0m\u001b[0;34m,\u001b[0m \u001b[0mn_jobs\u001b[0m\u001b[0;34m=\u001b[0m\u001b[0;34m-\u001b[0m\u001b[0;36m1\u001b[0m\u001b[0;34m,\u001b[0m \u001b[0mscoring\u001b[0m \u001b[0;34m=\u001b[0m \u001b[0;34m'neg_mean_squared_error'\u001b[0m\u001b[0;34m)\u001b[0m\u001b[0;34m\u001b[0m\u001b[0;34m\u001b[0m\u001b[0m\n\u001b[0;32m----> 4\u001b[0;31m         \u001b[0mgrid_search\u001b[0m\u001b[0;34m.\u001b[0m\u001b[0mfit\u001b[0m\u001b[0;34m(\u001b[0m\u001b[0mx_train\u001b[0m\u001b[0;34m,\u001b[0m \u001b[0my_train\u001b[0m\u001b[0;34m)\u001b[0m\u001b[0;34m\u001b[0m\u001b[0;34m\u001b[0m\u001b[0m\n\u001b[0m\u001b[1;32m      5\u001b[0m         \u001b[0my_predict\u001b[0m \u001b[0;34m=\u001b[0m \u001b[0mgrid_search\u001b[0m\u001b[0;34m.\u001b[0m\u001b[0mpredict\u001b[0m\u001b[0;34m(\u001b[0m\u001b[0mx_test\u001b[0m\u001b[0;34m)\u001b[0m\u001b[0;34m\u001b[0m\u001b[0;34m\u001b[0m\u001b[0m\n\u001b[1;32m      6\u001b[0m         \u001b[0mprint\u001b[0m\u001b[0;34m(\u001b[0m\u001b[0;34m'The parameters combination {} that would give best accuracy is : '\u001b[0m\u001b[0;34m.\u001b[0m\u001b[0mformat\u001b[0m\u001b[0;34m(\u001b[0m\u001b[0mmodel_name\u001b[0m\u001b[0;34m)\u001b[0m\u001b[0;34m)\u001b[0m\u001b[0;34m\u001b[0m\u001b[0;34m\u001b[0m\u001b[0m\n",
            "\u001b[0;32m/usr/local/lib/python3.7/dist-packages/sklearn/model_selection/_search.py\u001b[0m in \u001b[0;36mfit\u001b[0;34m(self, X, y, groups, **fit_params)\u001b[0m\n\u001b[1;32m    708\u001b[0m                 \u001b[0;32mreturn\u001b[0m \u001b[0mresults\u001b[0m\u001b[0;34m\u001b[0m\u001b[0;34m\u001b[0m\u001b[0m\n\u001b[1;32m    709\u001b[0m \u001b[0;34m\u001b[0m\u001b[0m\n\u001b[0;32m--> 710\u001b[0;31m             \u001b[0mself\u001b[0m\u001b[0;34m.\u001b[0m\u001b[0m_run_search\u001b[0m\u001b[0;34m(\u001b[0m\u001b[0mevaluate_candidates\u001b[0m\u001b[0;34m)\u001b[0m\u001b[0;34m\u001b[0m\u001b[0;34m\u001b[0m\u001b[0m\n\u001b[0m\u001b[1;32m    711\u001b[0m \u001b[0;34m\u001b[0m\u001b[0m\n\u001b[1;32m    712\u001b[0m         \u001b[0;31m# For multi-metric evaluation, store the best_index_, best_params_ and\u001b[0m\u001b[0;34m\u001b[0m\u001b[0;34m\u001b[0m\u001b[0;34m\u001b[0m\u001b[0m\n",
            "\u001b[0;32m/usr/local/lib/python3.7/dist-packages/sklearn/model_selection/_search.py\u001b[0m in \u001b[0;36m_run_search\u001b[0;34m(self, evaluate_candidates)\u001b[0m\n\u001b[1;32m   1149\u001b[0m     \u001b[0;32mdef\u001b[0m \u001b[0m_run_search\u001b[0m\u001b[0;34m(\u001b[0m\u001b[0mself\u001b[0m\u001b[0;34m,\u001b[0m \u001b[0mevaluate_candidates\u001b[0m\u001b[0;34m)\u001b[0m\u001b[0;34m:\u001b[0m\u001b[0;34m\u001b[0m\u001b[0;34m\u001b[0m\u001b[0m\n\u001b[1;32m   1150\u001b[0m         \u001b[0;34m\"\"\"Search all candidates in param_grid\"\"\"\u001b[0m\u001b[0;34m\u001b[0m\u001b[0;34m\u001b[0m\u001b[0m\n\u001b[0;32m-> 1151\u001b[0;31m         \u001b[0mevaluate_candidates\u001b[0m\u001b[0;34m(\u001b[0m\u001b[0mParameterGrid\u001b[0m\u001b[0;34m(\u001b[0m\u001b[0mself\u001b[0m\u001b[0;34m.\u001b[0m\u001b[0mparam_grid\u001b[0m\u001b[0;34m)\u001b[0m\u001b[0;34m)\u001b[0m\u001b[0;34m\u001b[0m\u001b[0;34m\u001b[0m\u001b[0m\n\u001b[0m\u001b[1;32m   1152\u001b[0m \u001b[0;34m\u001b[0m\u001b[0m\n\u001b[1;32m   1153\u001b[0m \u001b[0;34m\u001b[0m\u001b[0m\n",
            "\u001b[0;32m/usr/local/lib/python3.7/dist-packages/sklearn/model_selection/_search.py\u001b[0m in \u001b[0;36mevaluate_candidates\u001b[0;34m(candidate_params)\u001b[0m\n\u001b[1;32m    687\u001b[0m                                \u001b[0;32mfor\u001b[0m \u001b[0mparameters\u001b[0m\u001b[0;34m,\u001b[0m \u001b[0;34m(\u001b[0m\u001b[0mtrain\u001b[0m\u001b[0;34m,\u001b[0m \u001b[0mtest\u001b[0m\u001b[0;34m)\u001b[0m\u001b[0;34m\u001b[0m\u001b[0;34m\u001b[0m\u001b[0m\n\u001b[1;32m    688\u001b[0m                                in product(candidate_params,\n\u001b[0;32m--> 689\u001b[0;31m                                           cv.split(X, y, groups)))\n\u001b[0m\u001b[1;32m    690\u001b[0m \u001b[0;34m\u001b[0m\u001b[0m\n\u001b[1;32m    691\u001b[0m                 \u001b[0;32mif\u001b[0m \u001b[0mlen\u001b[0m\u001b[0;34m(\u001b[0m\u001b[0mout\u001b[0m\u001b[0;34m)\u001b[0m \u001b[0;34m<\u001b[0m \u001b[0;36m1\u001b[0m\u001b[0;34m:\u001b[0m\u001b[0;34m\u001b[0m\u001b[0;34m\u001b[0m\u001b[0m\n",
            "\u001b[0;32m/usr/local/lib/python3.7/dist-packages/joblib/parallel.py\u001b[0m in \u001b[0;36m__call__\u001b[0;34m(self, iterable)\u001b[0m\n\u001b[1;32m   1052\u001b[0m \u001b[0;34m\u001b[0m\u001b[0m\n\u001b[1;32m   1053\u001b[0m             \u001b[0;32mwith\u001b[0m \u001b[0mself\u001b[0m\u001b[0;34m.\u001b[0m\u001b[0m_backend\u001b[0m\u001b[0;34m.\u001b[0m\u001b[0mretrieval_context\u001b[0m\u001b[0;34m(\u001b[0m\u001b[0;34m)\u001b[0m\u001b[0;34m:\u001b[0m\u001b[0;34m\u001b[0m\u001b[0;34m\u001b[0m\u001b[0m\n\u001b[0;32m-> 1054\u001b[0;31m                 \u001b[0mself\u001b[0m\u001b[0;34m.\u001b[0m\u001b[0mretrieve\u001b[0m\u001b[0;34m(\u001b[0m\u001b[0;34m)\u001b[0m\u001b[0;34m\u001b[0m\u001b[0;34m\u001b[0m\u001b[0m\n\u001b[0m\u001b[1;32m   1055\u001b[0m             \u001b[0;31m# Make sure that we get a last message telling us we are done\u001b[0m\u001b[0;34m\u001b[0m\u001b[0;34m\u001b[0m\u001b[0;34m\u001b[0m\u001b[0m\n\u001b[1;32m   1056\u001b[0m             \u001b[0melapsed_time\u001b[0m \u001b[0;34m=\u001b[0m \u001b[0mtime\u001b[0m\u001b[0;34m.\u001b[0m\u001b[0mtime\u001b[0m\u001b[0;34m(\u001b[0m\u001b[0;34m)\u001b[0m \u001b[0;34m-\u001b[0m \u001b[0mself\u001b[0m\u001b[0;34m.\u001b[0m\u001b[0m_start_time\u001b[0m\u001b[0;34m\u001b[0m\u001b[0;34m\u001b[0m\u001b[0m\n",
            "\u001b[0;32m/usr/local/lib/python3.7/dist-packages/joblib/parallel.py\u001b[0m in \u001b[0;36mretrieve\u001b[0;34m(self)\u001b[0m\n\u001b[1;32m    931\u001b[0m             \u001b[0;32mtry\u001b[0m\u001b[0;34m:\u001b[0m\u001b[0;34m\u001b[0m\u001b[0;34m\u001b[0m\u001b[0m\n\u001b[1;32m    932\u001b[0m                 \u001b[0;32mif\u001b[0m \u001b[0mgetattr\u001b[0m\u001b[0;34m(\u001b[0m\u001b[0mself\u001b[0m\u001b[0;34m.\u001b[0m\u001b[0m_backend\u001b[0m\u001b[0;34m,\u001b[0m \u001b[0;34m'supports_timeout'\u001b[0m\u001b[0;34m,\u001b[0m \u001b[0;32mFalse\u001b[0m\u001b[0;34m)\u001b[0m\u001b[0;34m:\u001b[0m\u001b[0;34m\u001b[0m\u001b[0;34m\u001b[0m\u001b[0m\n\u001b[0;32m--> 933\u001b[0;31m                     \u001b[0mself\u001b[0m\u001b[0;34m.\u001b[0m\u001b[0m_output\u001b[0m\u001b[0;34m.\u001b[0m\u001b[0mextend\u001b[0m\u001b[0;34m(\u001b[0m\u001b[0mjob\u001b[0m\u001b[0;34m.\u001b[0m\u001b[0mget\u001b[0m\u001b[0;34m(\u001b[0m\u001b[0mtimeout\u001b[0m\u001b[0;34m=\u001b[0m\u001b[0mself\u001b[0m\u001b[0;34m.\u001b[0m\u001b[0mtimeout\u001b[0m\u001b[0;34m)\u001b[0m\u001b[0;34m)\u001b[0m\u001b[0;34m\u001b[0m\u001b[0;34m\u001b[0m\u001b[0m\n\u001b[0m\u001b[1;32m    934\u001b[0m                 \u001b[0;32melse\u001b[0m\u001b[0;34m:\u001b[0m\u001b[0;34m\u001b[0m\u001b[0;34m\u001b[0m\u001b[0m\n\u001b[1;32m    935\u001b[0m                     \u001b[0mself\u001b[0m\u001b[0;34m.\u001b[0m\u001b[0m_output\u001b[0m\u001b[0;34m.\u001b[0m\u001b[0mextend\u001b[0m\u001b[0;34m(\u001b[0m\u001b[0mjob\u001b[0m\u001b[0;34m.\u001b[0m\u001b[0mget\u001b[0m\u001b[0;34m(\u001b[0m\u001b[0;34m)\u001b[0m\u001b[0;34m)\u001b[0m\u001b[0;34m\u001b[0m\u001b[0;34m\u001b[0m\u001b[0m\n",
            "\u001b[0;32m/usr/local/lib/python3.7/dist-packages/joblib/_parallel_backends.py\u001b[0m in \u001b[0;36mwrap_future_result\u001b[0;34m(future, timeout)\u001b[0m\n\u001b[1;32m    540\u001b[0m         AsyncResults.get from multiprocessing.\"\"\"\n\u001b[1;32m    541\u001b[0m         \u001b[0;32mtry\u001b[0m\u001b[0;34m:\u001b[0m\u001b[0;34m\u001b[0m\u001b[0;34m\u001b[0m\u001b[0m\n\u001b[0;32m--> 542\u001b[0;31m             \u001b[0;32mreturn\u001b[0m \u001b[0mfuture\u001b[0m\u001b[0;34m.\u001b[0m\u001b[0mresult\u001b[0m\u001b[0;34m(\u001b[0m\u001b[0mtimeout\u001b[0m\u001b[0;34m=\u001b[0m\u001b[0mtimeout\u001b[0m\u001b[0;34m)\u001b[0m\u001b[0;34m\u001b[0m\u001b[0;34m\u001b[0m\u001b[0m\n\u001b[0m\u001b[1;32m    543\u001b[0m         \u001b[0;32mexcept\u001b[0m \u001b[0mCfTimeoutError\u001b[0m \u001b[0;32mas\u001b[0m \u001b[0me\u001b[0m\u001b[0;34m:\u001b[0m\u001b[0;34m\u001b[0m\u001b[0;34m\u001b[0m\u001b[0m\n\u001b[1;32m    544\u001b[0m             \u001b[0;32mraise\u001b[0m \u001b[0mTimeoutError\u001b[0m \u001b[0;32mfrom\u001b[0m \u001b[0me\u001b[0m\u001b[0;34m\u001b[0m\u001b[0;34m\u001b[0m\u001b[0m\n",
            "\u001b[0;32m/usr/lib/python3.7/concurrent/futures/_base.py\u001b[0m in \u001b[0;36mresult\u001b[0;34m(self, timeout)\u001b[0m\n\u001b[1;32m    433\u001b[0m                 \u001b[0;32mraise\u001b[0m \u001b[0mCancelledError\u001b[0m\u001b[0;34m(\u001b[0m\u001b[0;34m)\u001b[0m\u001b[0;34m\u001b[0m\u001b[0;34m\u001b[0m\u001b[0m\n\u001b[1;32m    434\u001b[0m             \u001b[0;32melif\u001b[0m \u001b[0mself\u001b[0m\u001b[0;34m.\u001b[0m\u001b[0m_state\u001b[0m \u001b[0;34m==\u001b[0m \u001b[0mFINISHED\u001b[0m\u001b[0;34m:\u001b[0m\u001b[0;34m\u001b[0m\u001b[0;34m\u001b[0m\u001b[0m\n\u001b[0;32m--> 435\u001b[0;31m                 \u001b[0;32mreturn\u001b[0m \u001b[0mself\u001b[0m\u001b[0;34m.\u001b[0m\u001b[0m__get_result\u001b[0m\u001b[0;34m(\u001b[0m\u001b[0;34m)\u001b[0m\u001b[0;34m\u001b[0m\u001b[0;34m\u001b[0m\u001b[0m\n\u001b[0m\u001b[1;32m    436\u001b[0m             \u001b[0;32melse\u001b[0m\u001b[0;34m:\u001b[0m\u001b[0;34m\u001b[0m\u001b[0;34m\u001b[0m\u001b[0m\n\u001b[1;32m    437\u001b[0m                 \u001b[0;32mraise\u001b[0m \u001b[0mTimeoutError\u001b[0m\u001b[0;34m(\u001b[0m\u001b[0;34m)\u001b[0m\u001b[0;34m\u001b[0m\u001b[0;34m\u001b[0m\u001b[0m\n",
            "\u001b[0;32m/usr/lib/python3.7/concurrent/futures/_base.py\u001b[0m in \u001b[0;36m__get_result\u001b[0;34m(self)\u001b[0m\n\u001b[1;32m    382\u001b[0m     \u001b[0;32mdef\u001b[0m \u001b[0m__get_result\u001b[0m\u001b[0;34m(\u001b[0m\u001b[0mself\u001b[0m\u001b[0;34m)\u001b[0m\u001b[0;34m:\u001b[0m\u001b[0;34m\u001b[0m\u001b[0;34m\u001b[0m\u001b[0m\n\u001b[1;32m    383\u001b[0m         \u001b[0;32mif\u001b[0m \u001b[0mself\u001b[0m\u001b[0;34m.\u001b[0m\u001b[0m_exception\u001b[0m\u001b[0;34m:\u001b[0m\u001b[0;34m\u001b[0m\u001b[0;34m\u001b[0m\u001b[0m\n\u001b[0;32m--> 384\u001b[0;31m             \u001b[0;32mraise\u001b[0m \u001b[0mself\u001b[0m\u001b[0;34m.\u001b[0m\u001b[0m_exception\u001b[0m\u001b[0;34m\u001b[0m\u001b[0;34m\u001b[0m\u001b[0m\n\u001b[0m\u001b[1;32m    385\u001b[0m         \u001b[0;32melse\u001b[0m\u001b[0;34m:\u001b[0m\u001b[0;34m\u001b[0m\u001b[0;34m\u001b[0m\u001b[0m\n\u001b[1;32m    386\u001b[0m             \u001b[0;32mreturn\u001b[0m \u001b[0mself\u001b[0m\u001b[0;34m.\u001b[0m\u001b[0m_result\u001b[0m\u001b[0;34m\u001b[0m\u001b[0;34m\u001b[0m\u001b[0m\n",
            "\u001b[0;31mValueError\u001b[0m: Invalid parameter eval_metric for estimator Ridge(alpha=1.0, copy_X=True, fit_intercept=True, max_iter=None,\n      normalize=False, random_state=None, solver='auto', tol=0.001). Check the list of available parameters with `estimator.get_params().keys()`."
          ]
        }
      ]
    },
    {
      "cell_type": "code",
      "metadata": {
        "id": "dX-dviOR2ZiV"
      },
      "source": [
        "xgb_ = xgb.XGBRegressor(eval_metric= 'mae', max_depth= 2, n_estimators = 44)"
      ],
      "execution_count": 46,
      "outputs": []
    },
    {
      "cell_type": "code",
      "metadata": {
        "colab": {
          "base_uri": "https://localhost:8080/"
        },
        "id": "pYiUbkom23hm",
        "outputId": "4420b8ce-a69d-4b2f-e411-75c548a3b953"
      },
      "source": [
        "xgb_.fit(x_train_scaled,y_train)"
      ],
      "execution_count": 47,
      "outputs": [
        {
          "output_type": "stream",
          "text": [
            "[23:11:05] WARNING: /workspace/src/objective/regression_obj.cu:152: reg:linear is now deprecated in favor of reg:squarederror.\n"
          ],
          "name": "stdout"
        },
        {
          "output_type": "execute_result",
          "data": {
            "text/plain": [
              "XGBRegressor(base_score=0.5, booster='gbtree', colsample_bylevel=1,\n",
              "             colsample_bynode=1, colsample_bytree=1, eval_metric='mae', gamma=0,\n",
              "             importance_type='gain', learning_rate=0.1, max_delta_step=0,\n",
              "             max_depth=2, min_child_weight=1, missing=None, n_estimators=44,\n",
              "             n_jobs=1, nthread=None, objective='reg:linear', random_state=0,\n",
              "             reg_alpha=0, reg_lambda=1, scale_pos_weight=1, seed=None,\n",
              "             silent=None, subsample=1, verbosity=1)"
            ]
          },
          "metadata": {
            "tags": []
          },
          "execution_count": 47
        }
      ]
    },
    {
      "cell_type": "code",
      "metadata": {
        "colab": {
          "base_uri": "https://localhost:8080/"
        },
        "id": "85vZliEI3DJW",
        "outputId": "8e34af21-fcca-4026-c924-485792de04fd"
      },
      "source": [
        "xgb_.predict(x_test_scaled)"
      ],
      "execution_count": 49,
      "outputs": [
        {
          "output_type": "execute_result",
          "data": {
            "text/plain": [
              "array([0.48817292, 0.44548997, 0.46280062, 0.35463697, 0.451094  ,\n",
              "       0.24013174, 0.4565998 , 0.4206507 , 0.5583633 , 0.2336267 ,\n",
              "       0.49095577, 0.5087302 , 0.30887195, 0.451094  , 0.5015075 ,\n",
              "       0.53081596, 0.46915007, 0.440118  , 0.47615063, 0.48290655,\n",
              "       0.42630228, 0.50100064, 0.5420093 , 0.23659927, 0.48738596,\n",
              "       0.53619814, 0.52254194, 0.2916466 , 0.47285712, 0.53757185,\n",
              "       0.30083764, 0.3708406 , 0.2751346 , 0.3861663 , 0.5500973 ,\n",
              "       0.38944072, 0.459769  , 0.24128217, 0.48551458, 0.46962515,\n",
              "       0.46613705, 0.41172343, 0.46915007, 0.24117398, 0.47212264,\n",
              "       0.4242347 , 0.23303738, 0.348141  , 0.55852515, 0.33385924,\n",
              "       0.5074593 , 0.48817292, 0.53619814, 0.3881477 , 0.25438038,\n",
              "       0.44839618, 0.48551458, 0.5353031 , 0.4100074 , 0.44186914,\n",
              "       0.3534209 , 0.5139322 , 0.48181084, 0.49366802, 0.5163027 ,\n",
              "       0.5088143 , 0.4687056 , 0.26249093, 0.23929709, 0.5808227 ,\n",
              "       0.46046665, 0.4562873 , 0.5944409 , 0.5602402 , 0.23847616,\n",
              "       0.42630228, 0.43827882, 0.2336267 , 0.5173783 , 0.3913176 ,\n",
              "       0.53434706, 0.49752885, 0.4448417 , 0.46821174, 0.23550358,\n",
              "       0.4318396 , 0.47697958, 0.2397021 , 0.5101937 , 0.4330596 ,\n",
              "       0.23132423, 0.48066512, 0.4564463 , 0.25810757, 0.46809238,\n",
              "       0.5422705 , 0.23030934, 0.6035993 , 0.5061756 , 0.3929432 ,\n",
              "       0.23037553, 0.5368722 , 0.5422705 , 0.5420093 , 0.4222235 ,\n",
              "       0.5302362 , 0.51284224, 0.4324136 , 0.49565998, 0.38944072,\n",
              "       0.44953135, 0.48738596, 0.47778505, 0.43650517, 0.48974994,\n",
              "       0.5989178 , 0.3830739 , 0.4074502 , 0.5420093 , 0.38268304,\n",
              "       0.6286246 , 0.44224286, 0.46944445, 0.47615063, 0.4796655 ,\n",
              "       0.46689725], dtype=float32)"
            ]
          },
          "metadata": {
            "tags": []
          },
          "execution_count": 49
        }
      ]
    },
    {
      "cell_type": "code",
      "metadata": {
        "id": "vU8poHgM3UiM"
      },
      "source": [
        "from sklearn.externals import joblib\n",
        "import pickle\n",
        "with open('finalized_model.pklz', 'wb') as file:\n",
        "    pickle.dump(xgb_, file)"
      ],
      "execution_count": 51,
      "outputs": []
    },
    {
      "cell_type": "code",
      "metadata": {
        "id": "W2CMNkoz3bfY"
      },
      "source": [
        "import pandas as pd\n",
        "import pickle\n",
        "from sklearn.externals import joblib\n",
        "def predict_model(filename):\n",
        "  lst_drops = ['92', 'Прожиточный минимум']\n",
        "  drop_list = ['Регион','Качество жизни']\n",
        "  target = 'Качество жизни'\n",
        "  df1 = df.copy(deep = True).drop(lst_drops, axis=1)\n",
        "  df1 = df1.copy(deep = True).drop(drop_list, axis = 1)\n",
        "  x_test_scaled = (x_test-np.min(x_test))/(np.max(x_test)-np.min(x_test))\n",
        "  loaded_model = pickle.load(open('finalized_model.pklz', 'rb'))\n",
        "  result = loaded_model.predict(x_test_scaled)\n",
        "  return result"
      ],
      "execution_count": 135,
      "outputs": []
    },
    {
      "cell_type": "code",
      "metadata": {
        "colab": {
          "base_uri": "https://localhost:8080/"
        },
        "id": "UgD9_bXu6RFI",
        "outputId": "d47988a8-f032-442e-8b73-a10f76b4e9a1"
      },
      "source": [
        "str_ = 'all_data.csv'\n",
        "predict_model(str_)"
      ],
      "execution_count": 136,
      "outputs": [
        {
          "output_type": "execute_result",
          "data": {
            "text/plain": [
              "array([0.34961131, 0.3913471 , 0.2577151 , 0.41835687, 0.47896231,\n",
              "       0.41517461, 0.50643026, 0.43576701, 0.51615785, 0.4963785 ,\n",
              "       0.50674731, 0.52697524, 0.44710627, 0.47010687, 0.46076934,\n",
              "       0.40087698, 0.55526871, 0.49388408, 0.49078596, 0.48513974,\n",
              "       0.70376147, 0.32540207, 0.43962447, 0.38395163, 0.47535251,\n",
              "       0.45139754, 0.48323722, 0.59493585, 0.35438853, 0.48698159,\n",
              "       0.39638172, 0.498335  , 0.44990698, 0.74725202, 0.56007804,\n",
              "       0.39727747, 0.4846605 , 0.42089943, 0.63789239, 0.4543943 ,\n",
              "       0.46168859, 0.44209372, 0.48244463, 0.44966433, 0.56612468,\n",
              "       0.48407757, 0.47457053, 0.40655186, 0.46699151, 0.45485109,\n",
              "       0.48261728, 0.41107654, 0.46055451, 0.46969396, 0.47803745,\n",
              "       0.44622819, 0.43736962, 0.37509907, 0.50093398, 0.51254386,\n",
              "       0.39076643, 0.49942467, 0.3969828 , 0.51894117, 0.45056276,\n",
              "       0.48553914, 0.47200961, 0.35906535, 0.59255627, 0.47708639,\n",
              "       0.4816639 , 0.72475981, 0.4013894 , 0.49416811, 0.47708303,\n",
              "       0.46708894, 0.41473042, 0.36904753, 0.43873087, 0.47004763,\n",
              "       0.51054178, 0.3956175 , 0.45949154, 0.66318813, 0.51272076,\n",
              "       0.38769961, 0.47927673, 0.44859147, 0.49885785, 0.48274484,\n",
              "       0.48963634, 0.45826088, 0.9728876 , 0.4010011 , 0.47815839,\n",
              "       0.32181566, 0.49031281, 0.43987657, 0.54530487, 0.32847351,\n",
              "       0.44817789, 0.50414836, 0.72786886, 0.4537659 , 0.48162351,\n",
              "       0.51502049, 0.47779651, 0.57759311, 0.43697541, 0.68087323,\n",
              "       0.43277843, 0.38314081, 0.52489735, 0.71516838, 0.47509364,\n",
              "       0.40736089, 0.35613064, 0.55975681, 0.22756853, 0.42205311,\n",
              "       0.44263919, 0.43946696, 0.49207286, 0.48994089, 0.49082545,\n",
              "       0.43733636, 0.52372779])"
            ]
          },
          "metadata": {
            "tags": []
          },
          "execution_count": 136
        }
      ]
    },
    {
      "cell_type": "code",
      "metadata": {
        "id": "qR7g_wbO50Za",
        "colab": {
          "base_uri": "https://localhost:8080/",
          "height": 388
        },
        "outputId": "654c937f-499b-4dc2-9e85-8b6f8965362a"
      },
      "source": [
        "import torch\n",
        "import torch.nn as nn\n",
        "from torch.autograd import Variable\n",
        "import torch.functional as F\n",
        "from torch.utils.data import Dataset, DataLoader\n",
        "from torch.utils.data.sampler import SubsetRandomSampler\n",
        "\n",
        "import numpy as np\n",
        "from sklearn.datasets import load_boston\n",
        "from sklearn.preprocessing import StandardScaler\n",
        "from sklearn.model_selection import train_test_split\n",
        "\n",
        "X, y = load_boston(return_X_y=True)\n",
        "\n",
        "# create train and test indices\n",
        "train, test = train_test_split(list(range(X.shape[0])), test_size=.3)\n",
        "\n",
        "input_size = 10\n",
        "hidden_layer_size = 2\n",
        "learning_rate = 1e-5\n",
        "batch_size = 10\n",
        "num_epochs = 100\n",
        "\n",
        "class PrepareData(Dataset):\n",
        "\n",
        "    def __init__(self, X, y, scale_X=True):\n",
        "        if not torch.is_tensor(X):\n",
        "            if scale_X:\n",
        "                X = StandardScaler().fit_transform(X)\n",
        "                self.X = torch.from_numpy(X)\n",
        "        if not torch.is_tensor(y):\n",
        "            self.y = torch.from_numpy(y)\n",
        "\n",
        "    def __len__(self):\n",
        "        return len(self.X)\n",
        "\n",
        "    def __getitem__(self, idx):\n",
        "        return self.X[idx], self.y[idx]\n",
        "\n",
        "ds = PrepareData(X, y=y, scale_X=True)\n",
        "\n",
        "train_set = DataLoader(ds, batch_size=batch_size,\n",
        "                       sampler=SubsetRandomSampler(train))\n",
        "test_set = DataLoader(ds, batch_size=batch_size,\n",
        "                      sampler=SubsetRandomSampler(test))\n",
        "\n",
        "class RegressionModel(nn.Module):\n",
        "\n",
        "    def __init__(self, input_size, hidden_size):\n",
        "        super(RegressionModel, self).__init__()\n",
        "        self.dense_h1 = nn.Linear(in_features=input_size, out_features=hidden_size)\n",
        "        self.relu_h1 = nn.ReLU()\n",
        "        self.dropout = nn.Dropout(p=0.5)\n",
        "        self.dense_out = nn.Linear(in_features=hidden_size, out_features=1)\n",
        "\n",
        "    def forward(self, X):\n",
        "\n",
        "        out = self.relu_h1(self.dense_h1(X))\n",
        "        out = self.dropout(out)\n",
        "        out = self.dense_out(out)\n",
        "\n",
        "        return out\n",
        "\n",
        "m = RegressionModel(input_size=input_size, hidden_size=hidden_layer_size)\n",
        "\n",
        "cost_func = nn.MSELoss()\n",
        "optimizer = torch.optim.Adam(m.parameters(), lr=learning_rate)\n",
        "\n",
        "all_losses = []\n",
        "for e in range(num_epochs):\n",
        "    batch_losses = []\n",
        "\n",
        "    for ix, (Xb, yb) in enumerate(train_set):\n",
        "\n",
        "        _X = Variable(Xb).float()\n",
        "        _y = Variable(yb).float()\n",
        "\n",
        "        #==========Forward pass===============\n",
        "\n",
        "        preds = m(_X)\n",
        "        loss = cost_func(preds, _y)\n",
        "\n",
        "        #==========backward pass==============\n",
        "\n",
        "        optimizer.zero_grad()\n",
        "        loss.backward()\n",
        "        optimizer.step()\n",
        "\n",
        "        batch_losses.append(loss.data[0])\n",
        "        all_losses.append(loss.data[0])\n",
        "\n",
        "    mbl = np.mean(np.sqrt(batch_losses)).round(3)\n",
        "\n",
        "    if e % 5 == 0:\n",
        "        print(\"Epoch [{}/{}], Batch loss: {}\".format(e, num_epochs, mbl))\n",
        "\n",
        "# prepares model for inference when trained with a dropout layer\n",
        "print(m.training)\n",
        "m.eval()\n",
        "print(m.training)\n",
        "\n",
        "test_batch_losses = []\n",
        "for _X, _y in test_set:\n",
        "\n",
        "    _X = Variable(_X).float()\n",
        "    _y = Variable(_y).float()\n",
        "\n",
        "    #apply model\n",
        "    test_preds = m(_X)\n",
        "    test_loss = cost_func(test_preds, _y)\n",
        "\n",
        "    test_batch_losses.append(test_loss.data[0])\n",
        "    print(\"Batch loss: {}\".format(test_loss.data[0]))"
      ],
      "execution_count": 38,
      "outputs": [
        {
          "output_type": "error",
          "ename": "RuntimeError",
          "evalue": "ignored",
          "traceback": [
            "\u001b[0;31m---------------------------------------------------------------------------\u001b[0m",
            "\u001b[0;31mRuntimeError\u001b[0m                              Traceback (most recent call last)",
            "\u001b[0;32m<ipython-input-38-2c2c99f46e27>\u001b[0m in \u001b[0;36m<module>\u001b[0;34m()\u001b[0m\n\u001b[1;32m     78\u001b[0m         \u001b[0;31m#==========Forward pass===============\u001b[0m\u001b[0;34m\u001b[0m\u001b[0;34m\u001b[0m\u001b[0;34m\u001b[0m\u001b[0m\n\u001b[1;32m     79\u001b[0m \u001b[0;34m\u001b[0m\u001b[0m\n\u001b[0;32m---> 80\u001b[0;31m         \u001b[0mpreds\u001b[0m \u001b[0;34m=\u001b[0m \u001b[0mm\u001b[0m\u001b[0;34m(\u001b[0m\u001b[0m_X\u001b[0m\u001b[0;34m)\u001b[0m\u001b[0;34m\u001b[0m\u001b[0;34m\u001b[0m\u001b[0m\n\u001b[0m\u001b[1;32m     81\u001b[0m         \u001b[0mloss\u001b[0m \u001b[0;34m=\u001b[0m \u001b[0mcost_func\u001b[0m\u001b[0;34m(\u001b[0m\u001b[0mpreds\u001b[0m\u001b[0;34m,\u001b[0m \u001b[0m_y\u001b[0m\u001b[0;34m)\u001b[0m\u001b[0;34m\u001b[0m\u001b[0;34m\u001b[0m\u001b[0m\n\u001b[1;32m     82\u001b[0m \u001b[0;34m\u001b[0m\u001b[0m\n",
            "\u001b[0;32m/usr/local/lib/python3.7/dist-packages/torch/nn/modules/module.py\u001b[0m in \u001b[0;36m_call_impl\u001b[0;34m(self, *input, **kwargs)\u001b[0m\n\u001b[1;32m    887\u001b[0m             \u001b[0mresult\u001b[0m \u001b[0;34m=\u001b[0m \u001b[0mself\u001b[0m\u001b[0;34m.\u001b[0m\u001b[0m_slow_forward\u001b[0m\u001b[0;34m(\u001b[0m\u001b[0;34m*\u001b[0m\u001b[0minput\u001b[0m\u001b[0;34m,\u001b[0m \u001b[0;34m**\u001b[0m\u001b[0mkwargs\u001b[0m\u001b[0;34m)\u001b[0m\u001b[0;34m\u001b[0m\u001b[0;34m\u001b[0m\u001b[0m\n\u001b[1;32m    888\u001b[0m         \u001b[0;32melse\u001b[0m\u001b[0;34m:\u001b[0m\u001b[0;34m\u001b[0m\u001b[0;34m\u001b[0m\u001b[0m\n\u001b[0;32m--> 889\u001b[0;31m             \u001b[0mresult\u001b[0m \u001b[0;34m=\u001b[0m \u001b[0mself\u001b[0m\u001b[0;34m.\u001b[0m\u001b[0mforward\u001b[0m\u001b[0;34m(\u001b[0m\u001b[0;34m*\u001b[0m\u001b[0minput\u001b[0m\u001b[0;34m,\u001b[0m \u001b[0;34m**\u001b[0m\u001b[0mkwargs\u001b[0m\u001b[0;34m)\u001b[0m\u001b[0;34m\u001b[0m\u001b[0;34m\u001b[0m\u001b[0m\n\u001b[0m\u001b[1;32m    890\u001b[0m         for hook in itertools.chain(\n\u001b[1;32m    891\u001b[0m                 \u001b[0m_global_forward_hooks\u001b[0m\u001b[0;34m.\u001b[0m\u001b[0mvalues\u001b[0m\u001b[0;34m(\u001b[0m\u001b[0;34m)\u001b[0m\u001b[0;34m,\u001b[0m\u001b[0;34m\u001b[0m\u001b[0;34m\u001b[0m\u001b[0m\n",
            "\u001b[0;32m<ipython-input-38-2c2c99f46e27>\u001b[0m in \u001b[0;36mforward\u001b[0;34m(self, X)\u001b[0m\n\u001b[1;32m     56\u001b[0m     \u001b[0;32mdef\u001b[0m \u001b[0mforward\u001b[0m\u001b[0;34m(\u001b[0m\u001b[0mself\u001b[0m\u001b[0;34m,\u001b[0m \u001b[0mX\u001b[0m\u001b[0;34m)\u001b[0m\u001b[0;34m:\u001b[0m\u001b[0;34m\u001b[0m\u001b[0;34m\u001b[0m\u001b[0m\n\u001b[1;32m     57\u001b[0m \u001b[0;34m\u001b[0m\u001b[0m\n\u001b[0;32m---> 58\u001b[0;31m         \u001b[0mout\u001b[0m \u001b[0;34m=\u001b[0m \u001b[0mself\u001b[0m\u001b[0;34m.\u001b[0m\u001b[0mrelu_h1\u001b[0m\u001b[0;34m(\u001b[0m\u001b[0mself\u001b[0m\u001b[0;34m.\u001b[0m\u001b[0mdense_h1\u001b[0m\u001b[0;34m(\u001b[0m\u001b[0mX\u001b[0m\u001b[0;34m)\u001b[0m\u001b[0;34m)\u001b[0m\u001b[0;34m\u001b[0m\u001b[0;34m\u001b[0m\u001b[0m\n\u001b[0m\u001b[1;32m     59\u001b[0m         \u001b[0mout\u001b[0m \u001b[0;34m=\u001b[0m \u001b[0mself\u001b[0m\u001b[0;34m.\u001b[0m\u001b[0mdropout\u001b[0m\u001b[0;34m(\u001b[0m\u001b[0mout\u001b[0m\u001b[0;34m)\u001b[0m\u001b[0;34m\u001b[0m\u001b[0;34m\u001b[0m\u001b[0m\n\u001b[1;32m     60\u001b[0m         \u001b[0mout\u001b[0m \u001b[0;34m=\u001b[0m \u001b[0mself\u001b[0m\u001b[0;34m.\u001b[0m\u001b[0mdense_out\u001b[0m\u001b[0;34m(\u001b[0m\u001b[0mout\u001b[0m\u001b[0;34m)\u001b[0m\u001b[0;34m\u001b[0m\u001b[0;34m\u001b[0m\u001b[0m\n",
            "\u001b[0;32m/usr/local/lib/python3.7/dist-packages/torch/nn/modules/module.py\u001b[0m in \u001b[0;36m_call_impl\u001b[0;34m(self, *input, **kwargs)\u001b[0m\n\u001b[1;32m    887\u001b[0m             \u001b[0mresult\u001b[0m \u001b[0;34m=\u001b[0m \u001b[0mself\u001b[0m\u001b[0;34m.\u001b[0m\u001b[0m_slow_forward\u001b[0m\u001b[0;34m(\u001b[0m\u001b[0;34m*\u001b[0m\u001b[0minput\u001b[0m\u001b[0;34m,\u001b[0m \u001b[0;34m**\u001b[0m\u001b[0mkwargs\u001b[0m\u001b[0;34m)\u001b[0m\u001b[0;34m\u001b[0m\u001b[0;34m\u001b[0m\u001b[0m\n\u001b[1;32m    888\u001b[0m         \u001b[0;32melse\u001b[0m\u001b[0;34m:\u001b[0m\u001b[0;34m\u001b[0m\u001b[0;34m\u001b[0m\u001b[0m\n\u001b[0;32m--> 889\u001b[0;31m             \u001b[0mresult\u001b[0m \u001b[0;34m=\u001b[0m \u001b[0mself\u001b[0m\u001b[0;34m.\u001b[0m\u001b[0mforward\u001b[0m\u001b[0;34m(\u001b[0m\u001b[0;34m*\u001b[0m\u001b[0minput\u001b[0m\u001b[0;34m,\u001b[0m \u001b[0;34m**\u001b[0m\u001b[0mkwargs\u001b[0m\u001b[0;34m)\u001b[0m\u001b[0;34m\u001b[0m\u001b[0;34m\u001b[0m\u001b[0m\n\u001b[0m\u001b[1;32m    890\u001b[0m         for hook in itertools.chain(\n\u001b[1;32m    891\u001b[0m                 \u001b[0m_global_forward_hooks\u001b[0m\u001b[0;34m.\u001b[0m\u001b[0mvalues\u001b[0m\u001b[0;34m(\u001b[0m\u001b[0;34m)\u001b[0m\u001b[0;34m,\u001b[0m\u001b[0;34m\u001b[0m\u001b[0;34m\u001b[0m\u001b[0m\n",
            "\u001b[0;32m/usr/local/lib/python3.7/dist-packages/torch/nn/modules/linear.py\u001b[0m in \u001b[0;36mforward\u001b[0;34m(self, input)\u001b[0m\n\u001b[1;32m     92\u001b[0m \u001b[0;34m\u001b[0m\u001b[0m\n\u001b[1;32m     93\u001b[0m     \u001b[0;32mdef\u001b[0m \u001b[0mforward\u001b[0m\u001b[0;34m(\u001b[0m\u001b[0mself\u001b[0m\u001b[0;34m,\u001b[0m \u001b[0minput\u001b[0m\u001b[0;34m:\u001b[0m \u001b[0mTensor\u001b[0m\u001b[0;34m)\u001b[0m \u001b[0;34m->\u001b[0m \u001b[0mTensor\u001b[0m\u001b[0;34m:\u001b[0m\u001b[0;34m\u001b[0m\u001b[0;34m\u001b[0m\u001b[0m\n\u001b[0;32m---> 94\u001b[0;31m         \u001b[0;32mreturn\u001b[0m \u001b[0mF\u001b[0m\u001b[0;34m.\u001b[0m\u001b[0mlinear\u001b[0m\u001b[0;34m(\u001b[0m\u001b[0minput\u001b[0m\u001b[0;34m,\u001b[0m \u001b[0mself\u001b[0m\u001b[0;34m.\u001b[0m\u001b[0mweight\u001b[0m\u001b[0;34m,\u001b[0m \u001b[0mself\u001b[0m\u001b[0;34m.\u001b[0m\u001b[0mbias\u001b[0m\u001b[0;34m)\u001b[0m\u001b[0;34m\u001b[0m\u001b[0;34m\u001b[0m\u001b[0m\n\u001b[0m\u001b[1;32m     95\u001b[0m \u001b[0;34m\u001b[0m\u001b[0m\n\u001b[1;32m     96\u001b[0m     \u001b[0;32mdef\u001b[0m \u001b[0mextra_repr\u001b[0m\u001b[0;34m(\u001b[0m\u001b[0mself\u001b[0m\u001b[0;34m)\u001b[0m \u001b[0;34m->\u001b[0m \u001b[0mstr\u001b[0m\u001b[0;34m:\u001b[0m\u001b[0;34m\u001b[0m\u001b[0;34m\u001b[0m\u001b[0m\n",
            "\u001b[0;32m/usr/local/lib/python3.7/dist-packages/torch/nn/functional.py\u001b[0m in \u001b[0;36mlinear\u001b[0;34m(input, weight, bias)\u001b[0m\n\u001b[1;32m   1751\u001b[0m     \u001b[0;32mif\u001b[0m \u001b[0mhas_torch_function_variadic\u001b[0m\u001b[0;34m(\u001b[0m\u001b[0minput\u001b[0m\u001b[0;34m,\u001b[0m \u001b[0mweight\u001b[0m\u001b[0;34m)\u001b[0m\u001b[0;34m:\u001b[0m\u001b[0;34m\u001b[0m\u001b[0;34m\u001b[0m\u001b[0m\n\u001b[1;32m   1752\u001b[0m         \u001b[0;32mreturn\u001b[0m \u001b[0mhandle_torch_function\u001b[0m\u001b[0;34m(\u001b[0m\u001b[0mlinear\u001b[0m\u001b[0;34m,\u001b[0m \u001b[0;34m(\u001b[0m\u001b[0minput\u001b[0m\u001b[0;34m,\u001b[0m \u001b[0mweight\u001b[0m\u001b[0;34m)\u001b[0m\u001b[0;34m,\u001b[0m \u001b[0minput\u001b[0m\u001b[0;34m,\u001b[0m \u001b[0mweight\u001b[0m\u001b[0;34m,\u001b[0m \u001b[0mbias\u001b[0m\u001b[0;34m=\u001b[0m\u001b[0mbias\u001b[0m\u001b[0;34m)\u001b[0m\u001b[0;34m\u001b[0m\u001b[0;34m\u001b[0m\u001b[0m\n\u001b[0;32m-> 1753\u001b[0;31m     \u001b[0;32mreturn\u001b[0m \u001b[0mtorch\u001b[0m\u001b[0;34m.\u001b[0m\u001b[0m_C\u001b[0m\u001b[0;34m.\u001b[0m\u001b[0m_nn\u001b[0m\u001b[0;34m.\u001b[0m\u001b[0mlinear\u001b[0m\u001b[0;34m(\u001b[0m\u001b[0minput\u001b[0m\u001b[0;34m,\u001b[0m \u001b[0mweight\u001b[0m\u001b[0;34m,\u001b[0m \u001b[0mbias\u001b[0m\u001b[0;34m)\u001b[0m\u001b[0;34m\u001b[0m\u001b[0;34m\u001b[0m\u001b[0m\n\u001b[0m\u001b[1;32m   1754\u001b[0m \u001b[0;34m\u001b[0m\u001b[0m\n\u001b[1;32m   1755\u001b[0m \u001b[0;34m\u001b[0m\u001b[0m\n",
            "\u001b[0;31mRuntimeError\u001b[0m: mat1 and mat2 shapes cannot be multiplied (10x13 and 10x2)"
          ]
        }
      ]
    },
    {
      "cell_type": "code",
      "metadata": {
        "id": "Icof3gtf50Zb"
      },
      "source": [
        "from sklearn.pipeline import make_pipeline\n",
        "from sklearn.linear_model import Ridge\n",
        "from sklearn.model_selection import train_test_split\n",
        "from sklearn import metrics\n",
        "import pandas as pd\n",
        "import numpy as np\n",
        "\n",
        "def train(data):\n",
        "    drop_list = ['Регион','Качество жизни']\n",
        "    target = 'Качество жизни'\n",
        "    df = df.copy(deep = True).drop(['95','Медианная зп (руб)'], axis=1)\n",
        "    x_train,x_test,y_train,y_test = train_test_split(df.drop(drop_list,axis = 1),\n",
        "                                                 df[target]/100,\n",
        "                                                 random_state = 22,\n",
        "                                                 test_size = 0.25)\n",
        "    num_trans = StandardScaler()\n",
        "    best_model = Ridge(alpha= 0.5, solver= 'sparse_cg')\n",
        "    preprocessor = ColumnTransformer(transformers = [('num', num_trans)])\n",
        "    clf_pipe = Pipeline(steps = [('preprocessor', preprocessor), ('classifier', clf_logress_pipe)])\n",
        "    clf_pipe.fit(data)\n",
        "    print (\"MSE: {}\".format(metrics.mean_squared_error(y_test, y_pred)))\n",
        "    return best_model\n",
        "\n",
        "def get_predict(data):\n",
        "    sc = StandardScaler()\n",
        "    X_test = data.copy(deep = True).drop('Регион', axis=1)\n",
        "    sc.fit(X_test)\n",
        "    return best_model.predict_proba(X_test)[:, 1]\n",
        "\n"
      ],
      "execution_count": 39,
      "outputs": []
    },
    {
      "cell_type": "code",
      "metadata": {
        "id": "888tTQ1550Zb"
      },
      "source": [
        "def get_predict(data):\n",
        "    \n",
        "    sc = StandardScaler()\n",
        "    sc.fit(data)\n",
        "    return best_model.predict_proba(X_test)[:, 1]\n",
        "\n",
        "\n",
        "    \n",
        "    "
      ],
      "execution_count": 40,
      "outputs": []
    },
    {
      "cell_type": "code",
      "metadata": {
        "id": "ovPA7NumXgCC"
      },
      "source": [
        "lst = df['Регион'].unique()\n",
        "f = open('query.txt','w')\n",
        "for k,i in enumerate(lst):\n",
        "  f.write(\"insert into regions (id_regions, name) values ({},'{}');\\n\".format(k,i))\n",
        "f.close()"
      ],
      "execution_count": 41,
      "outputs": []
    },
    {
      "cell_type": "code",
      "metadata": {
        "id": "um9wlIl4XlYt",
        "colab": {
          "base_uri": "https://localhost:8080/",
          "height": 259
        },
        "outputId": "c45aac82-992e-4ed0-d78c-fedb1bb6a33c"
      },
      "source": [
        "from sklearn.externals import joblib\n",
        "filename = 'finalized_model.sav'\n",
        "joblib.dump(model, filename)"
      ],
      "execution_count": 42,
      "outputs": [
        {
          "output_type": "stream",
          "text": [
            "/usr/local/lib/python3.7/dist-packages/sklearn/externals/joblib/__init__.py:15: FutureWarning: sklearn.externals.joblib is deprecated in 0.21 and will be removed in 0.23. Please import this functionality directly from joblib, which can be installed with: pip install joblib. If this warning is raised when loading pickled models, you may need to re-serialize those models with scikit-learn 0.21+.\n",
            "  warnings.warn(msg, category=FutureWarning)\n"
          ],
          "name": "stderr"
        },
        {
          "output_type": "error",
          "ename": "NameError",
          "evalue": "ignored",
          "traceback": [
            "\u001b[0;31m---------------------------------------------------------------------------\u001b[0m",
            "\u001b[0;31mNameError\u001b[0m                                 Traceback (most recent call last)",
            "\u001b[0;32m<ipython-input-42-9c569ae4c82a>\u001b[0m in \u001b[0;36m<module>\u001b[0;34m()\u001b[0m\n\u001b[1;32m      1\u001b[0m \u001b[0;32mfrom\u001b[0m \u001b[0msklearn\u001b[0m\u001b[0;34m.\u001b[0m\u001b[0mexternals\u001b[0m \u001b[0;32mimport\u001b[0m \u001b[0mjoblib\u001b[0m\u001b[0;34m\u001b[0m\u001b[0;34m\u001b[0m\u001b[0m\n\u001b[1;32m      2\u001b[0m \u001b[0mfilename\u001b[0m \u001b[0;34m=\u001b[0m \u001b[0;34m'finalized_model.sav'\u001b[0m\u001b[0;34m\u001b[0m\u001b[0;34m\u001b[0m\u001b[0m\n\u001b[0;32m----> 3\u001b[0;31m \u001b[0mjoblib\u001b[0m\u001b[0;34m.\u001b[0m\u001b[0mdump\u001b[0m\u001b[0;34m(\u001b[0m\u001b[0mmodel\u001b[0m\u001b[0;34m,\u001b[0m \u001b[0mfilename\u001b[0m\u001b[0;34m)\u001b[0m\u001b[0;34m\u001b[0m\u001b[0;34m\u001b[0m\u001b[0m\n\u001b[0m",
            "\u001b[0;31mNameError\u001b[0m: name 'model' is not defined"
          ]
        }
      ]
    },
    {
      "cell_type": "code",
      "metadata": {
        "id": "xyy454cwz8Ut"
      },
      "source": [
        "loaded_model = pickle.load(open(filename, 'rb'))\n",
        "result = loaded_model.score(X_test, Y_test)"
      ],
      "execution_count": null,
      "outputs": []
    }
  ]
}